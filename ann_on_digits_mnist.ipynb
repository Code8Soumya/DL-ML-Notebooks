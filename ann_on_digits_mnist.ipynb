{
 "cells": [
  {
   "cell_type": "markdown",
   "id": "4749d1856a224858",
   "metadata": {
    "collapsed": false
   },
   "source": [
    "# <font color = #E55604 size = 10><b> Artificial Neural Network (ANN) VS Convolutional Neural Network (CNN) </b></font>\n",
    "<font color = #219C90 size = 5> Using both **ANN** and **CNN** on **Digits Mnist dataset**. Want to know more **<font color = #45FFCA>__[Click Here](https://en.wikipedia.org/wiki/MNIST_database)__** </font></font>"
   ]
  },
  {
   "cell_type": "code",
   "execution_count": 7,
   "id": "fe45e065ae888062",
   "metadata": {
    "ExecuteTime": {
     "end_time": "2023-09-26T07:32:55.667018600Z",
     "start_time": "2023-09-26T07:32:51.454431500Z"
    },
    "collapsed": false
   },
   "outputs": [],
   "source": [
    "import pandas as pd\n",
    "import numpy as np\n",
    "import matplotlib.pyplot as plt\n",
    "import tensorflow as tf\n",
    "import os\n",
    "import seaborn as sns\n",
    "import time"
   ]
  },
  {
   "cell_type": "code",
   "execution_count": 9,
   "id": "f3f01be06d710b17",
   "metadata": {
    "ExecuteTime": {
     "end_time": "2023-09-26T07:33:19.101695200Z",
     "start_time": "2023-09-26T07:33:19.059583100Z"
    },
    "collapsed": false
   },
   "outputs": [
    {
     "name": "stdout",
     "output_type": "stream",
     "text": [
      "2.13.0\n",
      "D:\\ML Project\\ANN\n"
     ]
    }
   ],
   "source": [
    "print(tf.__version__)\n",
    "print(os.getcwd())"
   ]
  },
  {
   "cell_type": "code",
   "execution_count": 4,
   "id": "e2234a3042245860",
   "metadata": {
    "ExecuteTime": {
     "end_time": "2023-09-18T06:39:43.962069600Z",
     "start_time": "2023-09-18T06:39:43.773792800Z"
    },
    "collapsed": false
   },
   "outputs": [
    {
     "data": {
      "text/plain": [
       "[]"
      ]
     },
     "execution_count": 4,
     "metadata": {},
     "output_type": "execute_result"
    }
   ],
   "source": [
    "tf.config.list_physical_devices(\"GPU\")"
   ]
  },
  {
   "cell_type": "code",
   "execution_count": 5,
   "id": "f07b40f39d69f8cd",
   "metadata": {
    "ExecuteTime": {
     "end_time": "2023-09-18T06:39:43.964070800Z",
     "start_time": "2023-09-18T06:39:43.791686900Z"
    },
    "collapsed": false
   },
   "outputs": [
    {
     "data": {
      "text/plain": [
       "[PhysicalDevice(name='/physical_device:CPU:0', device_type='CPU')]"
      ]
     },
     "execution_count": 5,
     "metadata": {},
     "output_type": "execute_result"
    }
   ],
   "source": [
    "tf.config.list_physical_devices(\"CPU\")"
   ]
  },
  {
   "cell_type": "code",
   "execution_count": 11,
   "id": "4fbcffeff9f6145d",
   "metadata": {
    "ExecuteTime": {
     "end_time": "2023-09-26T07:33:58.715235500Z",
     "start_time": "2023-09-26T07:33:58.019739100Z"
    },
    "collapsed": false
   },
   "outputs": [],
   "source": [
    "mnist = tf.keras.datasets.mnist\n",
    "(x_train_full, y_train_full) , (x_test, y_test) = mnist.load_data()"
   ]
  },
  {
   "cell_type": "code",
   "execution_count": 12,
   "id": "73f8aaea7b3a89dc",
   "metadata": {
    "ExecuteTime": {
     "end_time": "2023-09-26T07:34:00.261035600Z",
     "start_time": "2023-09-26T07:34:00.241038700Z"
    },
    "collapsed": false
   },
   "outputs": [
    {
     "data": {
      "text/plain": [
       "(60000, 28, 28)"
      ]
     },
     "execution_count": 12,
     "metadata": {},
     "output_type": "execute_result"
    }
   ],
   "source": [
    "# skrkfksg\n",
    "x_train_full.shape"
   ]
  },
  {
   "cell_type": "code",
   "execution_count": 8,
   "id": "b5cb95d1b6d8718b",
   "metadata": {
    "ExecuteTime": {
     "end_time": "2023-09-18T06:39:44.589484100Z",
     "start_time": "2023-09-18T06:39:44.272487600Z"
    },
    "collapsed": false
   },
   "outputs": [
    {
     "data": {
      "image/png": "[encoded data removed]",
      "text/plain": [
       "<Figure size 640x480 with 1 Axes>"
      ]
     },
     "metadata": {},
     "output_type": "display_data"
    }
   ],
   "source": [
    "plt.imshow(x_train_full[0], cmap=\"binary\")\n",
    "plt.show()"
   ]
  },
  {
   "cell_type": "code",
   "execution_count": 9,
   "id": "b2d8c9e31636aff",
   "metadata": {
    "ExecuteTime": {
     "end_time": "2023-09-18T06:39:44.790877900Z",
     "start_time": "2023-09-18T06:39:44.589484100Z"
    },
    "collapsed": false
   },
   "outputs": [
    {
     "data": {
      "text/plain": [
       "array([[  0,   0,   0,   0,   0,   0,   0,   0,   0,   0,   0,   0,   0,\n",
       "          0,   0,   0,   0,   0,   0,   0,   0,   0,   0,   0,   0,   0,\n",
       "          0,   0],\n",
       "       [  0,   0,   0,   0,   0,   0,   0,   0,   0,   0,   0,   0,   0,\n",
       "          0,   0,   0,   0,   0,   0,   0,   0,   0,   0,   0,   0,   0,\n",
       "          0,   0],\n",
       "       [  0,   0,   0,   0,   0,   0,   0,   0,   0,   0,   0,   0,   0,\n",
       "          0,   0,   0,   0,   0,   0,   0,   0,   0,   0,   0,   0,   0,\n",
       "          0,   0],\n",
       "       [  0,   0,   0,   0,   0,   0,   0,   0,   0,   0,   0,   0,   0,\n",
       "          0,   0,   0,   0,   0,   0,   0,   0,   0,   0,   0,   0,   0,\n",
       "          0,   0],\n",
       "       [  0,   0,   0,   0,   0,   0,   0,   0,   0,   0,   0,   0,   0,\n",
       "          0,   0,   0,   0,   0,   0,   0,   0,   0,   0,   0,   0,   0,\n",
       "          0,   0],\n",
       "       [  0,   0,   0,   0,   0,   0,   0,   0,   0,   0,   0,   0,   3,\n",
       "         18,  18,  18, 126, 136, 175,  26, 166, 255, 247, 127,   0,   0,\n",
       "          0,   0],\n",
       "       [  0,   0,   0,   0,   0,   0,   0,   0,  30,  36,  94, 154, 170,\n",
       "        253, 253, 253, 253, 253, 225, 172, 253, 242, 195,  64,   0,   0,\n",
       "          0,   0],\n",
       "       [  0,   0,   0,   0,   0,   0,   0,  49, 238, 253, 253, 253, 253,\n",
       "        253, 253, 253, 253, 251,  93,  82,  82,  56,  39,   0,   0,   0,\n",
       "          0,   0],\n",
       "       [  0,   0,   0,   0,   0,   0,   0,  18, 219, 253, 253, 253, 253,\n",
       "        253, 198, 182, 247, 241,   0,   0,   0,   0,   0,   0,   0,   0,\n",
       "          0,   0],\n",
       "       [  0,   0,   0,   0,   0,   0,   0,   0,  80, 156, 107, 253, 253,\n",
       "        205,  11,   0,  43, 154,   0,   0,   0,   0,   0,   0,   0,   0,\n",
       "          0,   0],\n",
       "       [  0,   0,   0,   0,   0,   0,   0,   0,   0,  14,   1, 154, 253,\n",
       "         90,   0,   0,   0,   0,   0,   0,   0,   0,   0,   0,   0,   0,\n",
       "          0,   0],\n",
       "       [  0,   0,   0,   0,   0,   0,   0,   0,   0,   0,   0, 139, 253,\n",
       "        190,   2,   0,   0,   0,   0,   0,   0,   0,   0,   0,   0,   0,\n",
       "          0,   0],\n",
       "       [  0,   0,   0,   0,   0,   0,   0,   0,   0,   0,   0,  11, 190,\n",
       "        253,  70,   0,   0,   0,   0,   0,   0,   0,   0,   0,   0,   0,\n",
       "          0,   0],\n",
       "       [  0,   0,   0,   0,   0,   0,   0,   0,   0,   0,   0,   0,  35,\n",
       "        241, 225, 160, 108,   1,   0,   0,   0,   0,   0,   0,   0,   0,\n",
       "          0,   0],\n",
       "       [  0,   0,   0,   0,   0,   0,   0,   0,   0,   0,   0,   0,   0,\n",
       "         81, 240, 253, 253, 119,  25,   0,   0,   0,   0,   0,   0,   0,\n",
       "          0,   0],\n",
       "       [  0,   0,   0,   0,   0,   0,   0,   0,   0,   0,   0,   0,   0,\n",
       "          0,  45, 186, 253, 253, 150,  27,   0,   0,   0,   0,   0,   0,\n",
       "          0,   0],\n",
       "       [  0,   0,   0,   0,   0,   0,   0,   0,   0,   0,   0,   0,   0,\n",
       "          0,   0,  16,  93, 252, 253, 187,   0,   0,   0,   0,   0,   0,\n",
       "          0,   0],\n",
       "       [  0,   0,   0,   0,   0,   0,   0,   0,   0,   0,   0,   0,   0,\n",
       "          0,   0,   0,   0, 249, 253, 249,  64,   0,   0,   0,   0,   0,\n",
       "          0,   0],\n",
       "       [  0,   0,   0,   0,   0,   0,   0,   0,   0,   0,   0,   0,   0,\n",
       "          0,  46, 130, 183, 253, 253, 207,   2,   0,   0,   0,   0,   0,\n",
       "          0,   0],\n",
       "       [  0,   0,   0,   0,   0,   0,   0,   0,   0,   0,   0,   0,  39,\n",
       "        148, 229, 253, 253, 253, 250, 182,   0,   0,   0,   0,   0,   0,\n",
       "          0,   0],\n",
       "       [  0,   0,   0,   0,   0,   0,   0,   0,   0,   0,  24, 114, 221,\n",
       "        253, 253, 253, 253, 201,  78,   0,   0,   0,   0,   0,   0,   0,\n",
       "          0,   0],\n",
       "       [  0,   0,   0,   0,   0,   0,   0,   0,  23,  66, 213, 253, 253,\n",
       "        253, 253, 198,  81,   2,   0,   0,   0,   0,   0,   0,   0,   0,\n",
       "          0,   0],\n",
       "       [  0,   0,   0,   0,   0,   0,  18, 171, 219, 253, 253, 253, 253,\n",
       "        195,  80,   9,   0,   0,   0,   0,   0,   0,   0,   0,   0,   0,\n",
       "          0,   0],\n",
       "       [  0,   0,   0,   0,  55, 172, 226, 253, 253, 253, 253, 244, 133,\n",
       "         11,   0,   0,   0,   0,   0,   0,   0,   0,   0,   0,   0,   0,\n",
       "          0,   0],\n",
       "       [  0,   0,   0,   0, 136, 253, 253, 253, 212, 135, 132,  16,   0,\n",
       "          0,   0,   0,   0,   0,   0,   0,   0,   0,   0,   0,   0,   0,\n",
       "          0,   0],\n",
       "       [  0,   0,   0,   0,   0,   0,   0,   0,   0,   0,   0,   0,   0,\n",
       "          0,   0,   0,   0,   0,   0,   0,   0,   0,   0,   0,   0,   0,\n",
       "          0,   0],\n",
       "       [  0,   0,   0,   0,   0,   0,   0,   0,   0,   0,   0,   0,   0,\n",
       "          0,   0,   0,   0,   0,   0,   0,   0,   0,   0,   0,   0,   0,\n",
       "          0,   0],\n",
       "       [  0,   0,   0,   0,   0,   0,   0,   0,   0,   0,   0,   0,   0,\n",
       "          0,   0,   0,   0,   0,   0,   0,   0,   0,   0,   0,   0,   0,\n",
       "          0,   0]], dtype=uint8)"
      ]
     },
     "execution_count": 9,
     "metadata": {},
     "output_type": "execute_result"
    }
   ],
   "source": [
    "x_train_full[0] # one image"
   ]
  },
  {
   "cell_type": "code",
   "execution_count": 10,
   "id": "92b0e2f00fdd65ac",
   "metadata": {
    "ExecuteTime": {
     "end_time": "2023-09-18T06:39:44.792878800Z",
     "start_time": "2023-09-18T06:39:44.601496200Z"
    },
    "collapsed": false
   },
   "outputs": [
    {
     "data": {
      "text/plain": [
       "5"
      ]
     },
     "execution_count": 10,
     "metadata": {},
     "output_type": "execute_result"
    }
   ],
   "source": [
    "y_train_full[0]"
   ]
  },
  {
   "cell_type": "code",
   "execution_count": 11,
   "id": "627285a729cc451c",
   "metadata": {
    "ExecuteTime": {
     "end_time": "2023-09-18T06:39:44.906540700Z",
     "start_time": "2023-09-18T06:39:44.614938100Z"
    },
    "collapsed": false
   },
   "outputs": [],
   "source": [
    "x_valid, x_train = x_train_full[:5000]/255, x_train_full[5000:]/255\n",
    "y_valid, y_train = y_train_full[:5000], y_train_full[5000:]\n",
    "\n",
    "x_test = x_test/255"
   ]
  },
  {
   "cell_type": "code",
   "execution_count": null,
   "id": "477dfe5788a1ad00",
   "metadata": {
    "collapsed": false
   },
   "outputs": [],
   "source": []
  },
  {
   "cell_type": "code",
   "execution_count": 12,
   "id": "8fc07170927851a1",
   "metadata": {
    "ExecuteTime": {
     "end_time": "2023-09-18T06:39:45.086007200Z",
     "start_time": "2023-09-18T06:39:44.841905500Z"
    },
    "collapsed": false
   },
   "outputs": [],
   "source": [
    "LAYERS = [\n",
    "    tf.keras.layers.Flatten(input_shape=[28,28],name=\"inputLayer\"),\n",
    "    tf.keras.layers.Dense(300,activation=\"relu\",name=\"hiddenLayer1\"),\n",
    "    tf.keras.layers.Dense(100,activation=\"relu\",name=\"hiddenLayer2\"),\n",
    "    tf.keras.layers.Dense(10,activation=\"softmax\",name=\"outputLayer\")\n",
    "]\n",
    "\n",
    "model = tf.keras.models.Sequential(LAYERS)"
   ]
  },
  {
   "cell_type": "code",
   "execution_count": 13,
   "id": "7f0fde54df55dc1f",
   "metadata": {
    "ExecuteTime": {
     "end_time": "2023-09-18T06:39:45.113483300Z",
     "start_time": "2023-09-18T06:39:45.089004600Z"
    },
    "collapsed": false
   },
   "outputs": [
    {
     "data": {
      "text/plain": [
       "[<keras.src.layers.reshaping.flatten.Flatten at 0x1bd0510cfa0>,\n",
       " <keras.src.layers.core.dense.Dense at 0x1bd086a02b0>,\n",
       " <keras.src.layers.core.dense.Dense at 0x1bd086a0400>,\n",
       " <keras.src.layers.core.dense.Dense at 0x1bd086a0970>]"
      ]
     },
     "execution_count": 13,
     "metadata": {},
     "output_type": "execute_result"
    }
   ],
   "source": [
    "model.layers"
   ]
  },
  {
   "cell_type": "code",
   "execution_count": 14,
   "id": "decb63640329e14c",
   "metadata": {
    "ExecuteTime": {
     "end_time": "2023-09-18T06:39:45.221666300Z",
     "start_time": "2023-09-18T06:39:45.103191Z"
    },
    "collapsed": false
   },
   "outputs": [
    {
     "name": "stdout",
     "output_type": "stream",
     "text": [
      "Model: \"sequential\"\n",
      "_________________________________________________________________\n",
      " Layer (type)                Output Shape              Param #   \n",
      "=================================================================\n",
      " inputLayer (Flatten)        (None, 784)               0         \n",
      "                                                                 \n",
      " hiddenLayer1 (Dense)        (None, 300)               235500    \n",
      "                                                                 \n",
      " hiddenLayer2 (Dense)        (None, 100)               30100     \n",
      "                                                                 \n",
      " outputLayer (Dense)         (None, 10)                1010      \n",
      "                                                                 \n",
      "=================================================================\n",
      "Total params: 266610 (1.02 MB)\n",
      "Trainable params: 266610 (1.02 MB)\n",
      "Non-trainable params: 0 (0.00 Byte)\n",
      "_________________________________________________________________\n"
     ]
    }
   ],
   "source": [
    "model.summary()"
   ]
  },
  {
   "cell_type": "code",
   "execution_count": 15,
   "id": "c9f60bd064ed8629",
   "metadata": {
    "ExecuteTime": {
     "end_time": "2023-09-18T06:39:45.223666600Z",
     "start_time": "2023-09-18T06:39:45.153298600Z"
    },
    "collapsed": false
   },
   "outputs": [],
   "source": [
    "input_layer = model.layers[0]"
   ]
  },
  {
   "cell_type": "code",
   "execution_count": 16,
   "id": "2b0ec4347a1e11ee",
   "metadata": {
    "ExecuteTime": {
     "end_time": "2023-09-18T06:39:45.225666500Z",
     "start_time": "2023-09-18T06:39:45.166300Z"
    },
    "collapsed": false
   },
   "outputs": [
    {
     "data": {
      "text/plain": [
       "[]"
      ]
     },
     "execution_count": 16,
     "metadata": {},
     "output_type": "execute_result"
    }
   ],
   "source": [
    "input_layer.get_weights()"
   ]
  },
  {
   "cell_type": "code",
   "execution_count": 17,
   "id": "bbd916a7bdf1a30a",
   "metadata": {
    "ExecuteTime": {
     "end_time": "2023-09-18T06:39:45.226774200Z",
     "start_time": "2023-09-18T06:39:45.181947Z"
    },
    "collapsed": false
   },
   "outputs": [],
   "source": [
    "hidden1 = model.layers[1]"
   ]
  },
  {
   "cell_type": "code",
   "execution_count": 18,
   "id": "8b26f7a5584325ca",
   "metadata": {
    "ExecuteTime": {
     "end_time": "2023-09-18T06:39:45.292687800Z",
     "start_time": "2023-09-18T06:39:45.195890100Z"
    },
    "collapsed": false
   },
   "outputs": [
    {
     "data": {
      "text/plain": [
       "[array([[-0.06529213, -0.05314041,  0.06449938, ..., -0.04947804,\n",
       "         -0.06064735, -0.06051439],\n",
       "        [ 0.04829732, -0.04740255,  0.00456358, ...,  0.04087346,\n",
       "         -0.01667427,  0.06544478],\n",
       "        [ 0.0266077 ,  0.04074362, -0.009618  , ...,  0.00197683,\n",
       "         -0.02948574,  0.04160929],\n",
       "        ...,\n",
       "        [-0.05206658,  0.0590767 ,  0.06252192, ..., -0.00979901,\n",
       "          0.04257333,  0.04860571],\n",
       "        [-0.00895104, -0.03993364, -0.02997626, ..., -0.05484782,\n",
       "         -0.06109839, -0.04798774],\n",
       "        [-0.03329181,  0.02928554, -0.06075848, ..., -0.01850012,\n",
       "         -0.07050073, -0.06418104]], dtype=float32),\n",
       " array([0., 0., 0., 0., 0., 0., 0., 0., 0., 0., 0., 0., 0., 0., 0., 0., 0.,\n",
       "        0., 0., 0., 0., 0., 0., 0., 0., 0., 0., 0., 0., 0., 0., 0., 0., 0.,\n",
       "        0., 0., 0., 0., 0., 0., 0., 0., 0., 0., 0., 0., 0., 0., 0., 0., 0.,\n",
       "        0., 0., 0., 0., 0., 0., 0., 0., 0., 0., 0., 0., 0., 0., 0., 0., 0.,\n",
       "        0., 0., 0., 0., 0., 0., 0., 0., 0., 0., 0., 0., 0., 0., 0., 0., 0.,\n",
       "        0., 0., 0., 0., 0., 0., 0., 0., 0., 0., 0., 0., 0., 0., 0., 0., 0.,\n",
       "        0., 0., 0., 0., 0., 0., 0., 0., 0., 0., 0., 0., 0., 0., 0., 0., 0.,\n",
       "        0., 0., 0., 0., 0., 0., 0., 0., 0., 0., 0., 0., 0., 0., 0., 0., 0.,\n",
       "        0., 0., 0., 0., 0., 0., 0., 0., 0., 0., 0., 0., 0., 0., 0., 0., 0.,\n",
       "        0., 0., 0., 0., 0., 0., 0., 0., 0., 0., 0., 0., 0., 0., 0., 0., 0.,\n",
       "        0., 0., 0., 0., 0., 0., 0., 0., 0., 0., 0., 0., 0., 0., 0., 0., 0.,\n",
       "        0., 0., 0., 0., 0., 0., 0., 0., 0., 0., 0., 0., 0., 0., 0., 0., 0.,\n",
       "        0., 0., 0., 0., 0., 0., 0., 0., 0., 0., 0., 0., 0., 0., 0., 0., 0.,\n",
       "        0., 0., 0., 0., 0., 0., 0., 0., 0., 0., 0., 0., 0., 0., 0., 0., 0.,\n",
       "        0., 0., 0., 0., 0., 0., 0., 0., 0., 0., 0., 0., 0., 0., 0., 0., 0.,\n",
       "        0., 0., 0., 0., 0., 0., 0., 0., 0., 0., 0., 0., 0., 0., 0., 0., 0.,\n",
       "        0., 0., 0., 0., 0., 0., 0., 0., 0., 0., 0., 0., 0., 0., 0., 0., 0.,\n",
       "        0., 0., 0., 0., 0., 0., 0., 0., 0., 0., 0.], dtype=float32)]"
      ]
     },
     "execution_count": 18,
     "metadata": {},
     "output_type": "execute_result"
    }
   ],
   "source": [
    "hidden1.get_weights()"
   ]
  },
  {
   "cell_type": "code",
   "execution_count": 19,
   "id": "847c0145a22a0d29",
   "metadata": {
    "ExecuteTime": {
     "end_time": "2023-09-18T06:39:45.437334200Z",
     "start_time": "2023-09-18T06:39:45.226774200Z"
    },
    "collapsed": false
   },
   "outputs": [],
   "source": [
    "loss_function = \"sparse_categorical_crossentropy\"\n",
    "OPTIMIZER = tf.keras.optimizers.SGD(learning_rate=0.001)\n",
    "METRICS = [\"accuracy\"]"
   ]
  },
  {
   "cell_type": "code",
   "execution_count": 20,
   "id": "93169e92c184ce24",
   "metadata": {
    "ExecuteTime": {
     "end_time": "2023-09-18T06:39:45.443739500Z",
     "start_time": "2023-09-18T06:39:45.243555700Z"
    },
    "collapsed": false
   },
   "outputs": [],
   "source": [
    "model.compile(\n",
    "    loss=loss_function,\n",
    "    optimizer=OPTIMIZER,\n",
    "    metrics=METRICS\n",
    ")"
   ]
  },
  {
   "cell_type": "code",
   "execution_count": 21,
   "id": "d30c5418054c8347",
   "metadata": {
    "ExecuteTime": {
     "end_time": "2023-09-18T06:39:45.444769600Z",
     "start_time": "2023-09-18T06:39:45.271671100Z"
    },
    "collapsed": false
   },
   "outputs": [],
   "source": [
    "def get_log_path(log_dir=\"logs/fit\"):\n",
    "    filename = time.strftime(\"1_log_%y_%m_%d_%H_%M_%S\")\n",
    "    logs_path = os.path.join(log_dir,filename)\n",
    "    print(f\"Saving logs at {logs_path}\")\n",
    "    return logs_path"
   ]
  },
  {
   "cell_type": "code",
   "execution_count": 22,
   "id": "e64bc16d4c454f7c",
   "metadata": {
    "ExecuteTime": {
     "end_time": "2023-09-18T06:39:45.446745500Z",
     "start_time": "2023-09-18T06:39:45.288672100Z"
    },
    "collapsed": false
   },
   "outputs": [
    {
     "name": "stdout",
     "output_type": "stream",
     "text": [
      "Saving logs at logs/fit\\1_log_23_09_18_12_09_45\n"
     ]
    }
   ],
   "source": [
    "log_dirs = get_log_path()\n",
    "tb_cb = tf.keras.callbacks.TensorBoard(log_dir=log_dirs)"
   ]
  },
  {
   "cell_type": "code",
   "execution_count": 23,
   "id": "d1de48cdcefb486f",
   "metadata": {
    "ExecuteTime": {
     "end_time": "2023-09-18T06:39:45.448746200Z",
     "start_time": "2023-09-18T06:39:45.303682400Z"
    },
    "collapsed": false
   },
   "outputs": [],
   "source": [
    "early_stopping_cb = tf.keras.callbacks.EarlyStopping(patience=5, restore_best_weights=True)"
   ]
  },
  {
   "cell_type": "code",
   "execution_count": 24,
   "id": "80ff4d6521ba979d",
   "metadata": {
    "ExecuteTime": {
     "end_time": "2023-09-18T06:39:45.467782700Z",
     "start_time": "2023-09-18T06:39:45.317933700Z"
    },
    "collapsed": false
   },
   "outputs": [],
   "source": [
    "CKPT_path = os.path.join(\"Models\",\"Model_ckpt_Digit_mnist_1.h5\")\n",
    "checkpoint_cb = tf.keras.callbacks.ModelCheckpoint(CKPT_path, save_best_only=True)"
   ]
  },
  {
   "cell_type": "code",
   "execution_count": 25,
   "id": "1daa1331d676f55f",
   "metadata": {
    "ExecuteTime": {
     "end_time": "2023-09-18T06:39:45.468783300Z",
     "start_time": "2023-09-18T06:39:45.336066600Z"
    },
    "collapsed": false
   },
   "outputs": [],
   "source": [
    "EPOCHS = 30\n",
    "VALIDATION_SET = (x_valid,y_valid)"
   ]
  },
  {
   "cell_type": "code",
   "execution_count": 26,
   "id": "4a45690b8959cdf4",
   "metadata": {
    "ExecuteTime": {
     "end_time": "2023-09-18T06:43:03.168376800Z",
     "start_time": "2023-09-18T06:39:45.350520600Z"
    },
    "collapsed": false
   },
   "outputs": [
    {
     "name": "stdout",
     "output_type": "stream",
     "text": [
      "Epoch 1/30\n",
      "860/860 [==============================] - 4s 4ms/step - loss: 2.0174 - accuracy: 0.4011 - val_loss: 1.7331 - val_accuracy: 0.6364\n",
      "Epoch 2/30\n",
      " 32/860 [>.............................] - ETA: 2s - loss: 1.7374 - accuracy: 0.6333"
     ]
    },
    {
     "name": "stderr",
     "output_type": "stream",
     "text": [
      "D:\\ML Project\\ANN\\venv\\lib\\site-packages\\keras\\src\\engine\\training.py:3000: UserWarning: You are saving your model as an HDF5 file via `model.save()`. This file format is considered legacy. We recommend using instead the native Keras format, e.g. `model.save('my_model.keras')`.\n",
      "  saving_api.save_model(\n"
     ]
    },
    {
     "name": "stdout",
     "output_type": "stream",
     "text": [
      "860/860 [==============================] - 3s 3ms/step - loss: 1.4715 - accuracy: 0.7115 - val_loss: 1.2059 - val_accuracy: 0.7720\n",
      "Epoch 3/30\n",
      "860/860 [==============================] - 3s 4ms/step - loss: 1.0351 - accuracy: 0.7936 - val_loss: 0.8708 - val_accuracy: 0.8184\n",
      "Epoch 4/30\n",
      "860/860 [==============================] - 3s 4ms/step - loss: 0.7860 - accuracy: 0.8279 - val_loss: 0.6920 - val_accuracy: 0.8414\n",
      "Epoch 5/30\n",
      "860/860 [==============================] - 3s 4ms/step - loss: 0.6496 - accuracy: 0.8479 - val_loss: 0.5883 - val_accuracy: 0.8580\n",
      "Epoch 6/30\n",
      "860/860 [==============================] - 3s 4ms/step - loss: 0.5675 - accuracy: 0.8618 - val_loss: 0.5226 - val_accuracy: 0.8710\n",
      "Epoch 7/30\n",
      "860/860 [==============================] - 3s 4ms/step - loss: 0.5136 - accuracy: 0.8706 - val_loss: 0.4773 - val_accuracy: 0.8796\n",
      "Epoch 8/30\n",
      "860/860 [==============================] - 3s 3ms/step - loss: 0.4757 - accuracy: 0.8768 - val_loss: 0.4447 - val_accuracy: 0.8844\n",
      "Epoch 9/30\n",
      "860/860 [==============================] - 3s 3ms/step - loss: 0.4474 - accuracy: 0.8821 - val_loss: 0.4194 - val_accuracy: 0.8888\n",
      "Epoch 10/30\n",
      "860/860 [==============================] - 5s 6ms/step - loss: 0.4254 - accuracy: 0.8858 - val_loss: 0.3997 - val_accuracy: 0.8934\n",
      "Epoch 11/30\n",
      "860/860 [==============================] - 6s 7ms/step - loss: 0.4077 - accuracy: 0.8900 - val_loss: 0.3833 - val_accuracy: 0.8970\n",
      "Epoch 12/30\n",
      "860/860 [==============================] - 7s 8ms/step - loss: 0.3928 - accuracy: 0.8934 - val_loss: 0.3696 - val_accuracy: 0.9008\n",
      "Epoch 13/30\n",
      "860/860 [==============================] - 7s 8ms/step - loss: 0.3804 - accuracy: 0.8957 - val_loss: 0.3583 - val_accuracy: 0.9032\n",
      "Epoch 14/30\n",
      "860/860 [==============================] - 6s 7ms/step - loss: 0.3694 - accuracy: 0.8981 - val_loss: 0.3480 - val_accuracy: 0.9042\n",
      "Epoch 15/30\n",
      "860/860 [==============================] - 21s 25ms/step - loss: 0.3598 - accuracy: 0.9001 - val_loss: 0.3390 - val_accuracy: 0.9062\n",
      "Epoch 16/30\n",
      "860/860 [==============================] - 17s 20ms/step - loss: 0.3513 - accuracy: 0.9022 - val_loss: 0.3309 - val_accuracy: 0.9094\n",
      "Epoch 17/30\n",
      "860/860 [==============================] - 5s 5ms/step - loss: 0.3435 - accuracy: 0.9037 - val_loss: 0.3240 - val_accuracy: 0.9112\n",
      "Epoch 18/30\n",
      "860/860 [==============================] - 5s 6ms/step - loss: 0.3365 - accuracy: 0.9057 - val_loss: 0.3173 - val_accuracy: 0.9128\n",
      "Epoch 19/30\n",
      "860/860 [==============================] - 23s 27ms/step - loss: 0.3301 - accuracy: 0.9075 - val_loss: 0.3115 - val_accuracy: 0.9140\n",
      "Epoch 20/30\n",
      "860/860 [==============================] - 26s 31ms/step - loss: 0.3242 - accuracy: 0.9086 - val_loss: 0.3057 - val_accuracy: 0.9148\n",
      "Epoch 21/30\n",
      "860/860 [==============================] - 6s 6ms/step - loss: 0.3187 - accuracy: 0.9107 - val_loss: 0.3008 - val_accuracy: 0.9166\n",
      "Epoch 22/30\n",
      "860/860 [==============================] - 3s 4ms/step - loss: 0.3135 - accuracy: 0.9113 - val_loss: 0.2957 - val_accuracy: 0.9180\n",
      "Epoch 23/30\n",
      "860/860 [==============================] - 3s 3ms/step - loss: 0.3086 - accuracy: 0.9125 - val_loss: 0.2908 - val_accuracy: 0.9200\n",
      "Epoch 24/30\n",
      "860/860 [==============================] - 3s 3ms/step - loss: 0.3041 - accuracy: 0.9135 - val_loss: 0.2873 - val_accuracy: 0.9198\n",
      "Epoch 25/30\n",
      "860/860 [==============================] - 3s 3ms/step - loss: 0.2997 - accuracy: 0.9153 - val_loss: 0.2828 - val_accuracy: 0.9218\n",
      "Epoch 26/30\n",
      "860/860 [==============================] - 3s 3ms/step - loss: 0.2956 - accuracy: 0.9162 - val_loss: 0.2788 - val_accuracy: 0.9230\n",
      "Epoch 27/30\n",
      "860/860 [==============================] - 3s 4ms/step - loss: 0.2917 - accuracy: 0.9172 - val_loss: 0.2753 - val_accuracy: 0.9236\n",
      "Epoch 28/30\n",
      "860/860 [==============================] - 4s 5ms/step - loss: 0.2879 - accuracy: 0.9188 - val_loss: 0.2718 - val_accuracy: 0.9240\n",
      "Epoch 29/30\n",
      "860/860 [==============================] - 6s 7ms/step - loss: 0.2843 - accuracy: 0.9195 - val_loss: 0.2691 - val_accuracy: 0.9248\n",
      "Epoch 30/30\n",
      "860/860 [==============================] - 5s 6ms/step - loss: 0.2808 - accuracy: 0.9208 - val_loss: 0.2656 - val_accuracy: 0.9258\n"
     ]
    }
   ],
   "source": [
    "history = model.fit(x_train,y_train,epochs=EPOCHS,validation_data=VALIDATION_SET,batch_size=64,callbacks=[tb_cb,early_stopping_cb,checkpoint_cb])"
   ]
  },
  {
   "cell_type": "code",
   "execution_count": 27,
   "id": "3da30790cd1de979",
   "metadata": {
    "ExecuteTime": {
     "end_time": "2023-09-18T06:43:04.189896Z",
     "start_time": "2023-09-18T06:43:03.167374500Z"
    },
    "collapsed": false
   },
   "outputs": [
    {
     "data": {
      "text/plain": [
       "<Axes: >"
      ]
     },
     "execution_count": 27,
     "metadata": {},
     "output_type": "execute_result"
    },
    {
     "data": {
      "image/png": "[encoded data removed]",
      "text/plain": [
       "<Figure size 640x480 with 1 Axes>"
      ]
     },
     "metadata": {},
     "output_type": "display_data"
    }
   ],
   "source": [
    "pd.DataFrame(history.history).plot()"
   ]
  },
  {
   "cell_type": "code",
   "execution_count": 28,
   "id": "78aeb154ddf281c4",
   "metadata": {
    "ExecuteTime": {
     "end_time": "2023-09-18T06:43:04.400940100Z",
     "start_time": "2023-09-18T06:43:04.187417100Z"
    },
    "collapsed": false
   },
   "outputs": [
    {
     "data": {
      "text/html": [
       "<div>\n",
       "<style scoped>\n",
       "    .dataframe tbody tr th:only-of-type {\n",
       "        vertical-align: middle;\n",
       "    }\n",
       "\n",
       "    .dataframe tbody tr th {\n",
       "        vertical-align: top;\n",
       "    }\n",
       "\n",
       "    .dataframe thead th {\n",
       "        text-align: right;\n",
       "    }\n",
       "</style>\n",
       "<table border=\"1\" class=\"dataframe\">\n",
       "  <thead>\n",
       "    <tr style=\"text-align: right;\">\n",
       "      <th></th>\n",
       "      <th>loss</th>\n",
       "      <th>accuracy</th>\n",
       "      <th>val_loss</th>\n",
       "      <th>val_accuracy</th>\n",
       "    </tr>\n",
       "  </thead>\n",
       "  <tbody>\n",
       "    <tr>\n",
       "      <th>0</th>\n",
       "      <td>2.017428</td>\n",
       "      <td>0.401127</td>\n",
       "      <td>1.733096</td>\n",
       "      <td>0.6364</td>\n",
       "    </tr>\n",
       "    <tr>\n",
       "      <th>1</th>\n",
       "      <td>1.471451</td>\n",
       "      <td>0.711509</td>\n",
       "      <td>1.205875</td>\n",
       "      <td>0.7720</td>\n",
       "    </tr>\n",
       "    <tr>\n",
       "      <th>2</th>\n",
       "      <td>1.035121</td>\n",
       "      <td>0.793618</td>\n",
       "      <td>0.870753</td>\n",
       "      <td>0.8184</td>\n",
       "    </tr>\n",
       "    <tr>\n",
       "      <th>3</th>\n",
       "      <td>0.785971</td>\n",
       "      <td>0.827855</td>\n",
       "      <td>0.691960</td>\n",
       "      <td>0.8414</td>\n",
       "    </tr>\n",
       "    <tr>\n",
       "      <th>4</th>\n",
       "      <td>0.649563</td>\n",
       "      <td>0.847909</td>\n",
       "      <td>0.588294</td>\n",
       "      <td>0.8580</td>\n",
       "    </tr>\n",
       "    <tr>\n",
       "      <th>5</th>\n",
       "      <td>0.567465</td>\n",
       "      <td>0.861764</td>\n",
       "      <td>0.522615</td>\n",
       "      <td>0.8710</td>\n",
       "    </tr>\n",
       "    <tr>\n",
       "      <th>6</th>\n",
       "      <td>0.513637</td>\n",
       "      <td>0.870600</td>\n",
       "      <td>0.477343</td>\n",
       "      <td>0.8796</td>\n",
       "    </tr>\n",
       "    <tr>\n",
       "      <th>7</th>\n",
       "      <td>0.475661</td>\n",
       "      <td>0.876764</td>\n",
       "      <td>0.444677</td>\n",
       "      <td>0.8844</td>\n",
       "    </tr>\n",
       "    <tr>\n",
       "      <th>8</th>\n",
       "      <td>0.447436</td>\n",
       "      <td>0.882073</td>\n",
       "      <td>0.419413</td>\n",
       "      <td>0.8888</td>\n",
       "    </tr>\n",
       "    <tr>\n",
       "      <th>9</th>\n",
       "      <td>0.425441</td>\n",
       "      <td>0.885800</td>\n",
       "      <td>0.399677</td>\n",
       "      <td>0.8934</td>\n",
       "    </tr>\n",
       "    <tr>\n",
       "      <th>10</th>\n",
       "      <td>0.407658</td>\n",
       "      <td>0.889964</td>\n",
       "      <td>0.383253</td>\n",
       "      <td>0.8970</td>\n",
       "    </tr>\n",
       "    <tr>\n",
       "      <th>11</th>\n",
       "      <td>0.392818</td>\n",
       "      <td>0.893382</td>\n",
       "      <td>0.369551</td>\n",
       "      <td>0.9008</td>\n",
       "    </tr>\n",
       "    <tr>\n",
       "      <th>12</th>\n",
       "      <td>0.380361</td>\n",
       "      <td>0.895709</td>\n",
       "      <td>0.358286</td>\n",
       "      <td>0.9032</td>\n",
       "    </tr>\n",
       "    <tr>\n",
       "      <th>13</th>\n",
       "      <td>0.369370</td>\n",
       "      <td>0.898109</td>\n",
       "      <td>0.347968</td>\n",
       "      <td>0.9042</td>\n",
       "    </tr>\n",
       "    <tr>\n",
       "      <th>14</th>\n",
       "      <td>0.359832</td>\n",
       "      <td>0.900055</td>\n",
       "      <td>0.339036</td>\n",
       "      <td>0.9062</td>\n",
       "    </tr>\n",
       "    <tr>\n",
       "      <th>15</th>\n",
       "      <td>0.351270</td>\n",
       "      <td>0.902236</td>\n",
       "      <td>0.330946</td>\n",
       "      <td>0.9094</td>\n",
       "    </tr>\n",
       "    <tr>\n",
       "      <th>16</th>\n",
       "      <td>0.343549</td>\n",
       "      <td>0.903745</td>\n",
       "      <td>0.323977</td>\n",
       "      <td>0.9112</td>\n",
       "    </tr>\n",
       "    <tr>\n",
       "      <th>17</th>\n",
       "      <td>0.336516</td>\n",
       "      <td>0.905673</td>\n",
       "      <td>0.317259</td>\n",
       "      <td>0.9128</td>\n",
       "    </tr>\n",
       "    <tr>\n",
       "      <th>18</th>\n",
       "      <td>0.330109</td>\n",
       "      <td>0.907509</td>\n",
       "      <td>0.311472</td>\n",
       "      <td>0.9140</td>\n",
       "    </tr>\n",
       "    <tr>\n",
       "      <th>19</th>\n",
       "      <td>0.324217</td>\n",
       "      <td>0.908582</td>\n",
       "      <td>0.305707</td>\n",
       "      <td>0.9148</td>\n",
       "    </tr>\n",
       "    <tr>\n",
       "      <th>20</th>\n",
       "      <td>0.318656</td>\n",
       "      <td>0.910709</td>\n",
       "      <td>0.300750</td>\n",
       "      <td>0.9166</td>\n",
       "    </tr>\n",
       "    <tr>\n",
       "      <th>21</th>\n",
       "      <td>0.313472</td>\n",
       "      <td>0.911327</td>\n",
       "      <td>0.295727</td>\n",
       "      <td>0.9180</td>\n",
       "    </tr>\n",
       "    <tr>\n",
       "      <th>22</th>\n",
       "      <td>0.308642</td>\n",
       "      <td>0.912509</td>\n",
       "      <td>0.290835</td>\n",
       "      <td>0.9200</td>\n",
       "    </tr>\n",
       "    <tr>\n",
       "      <th>23</th>\n",
       "      <td>0.304090</td>\n",
       "      <td>0.913509</td>\n",
       "      <td>0.287253</td>\n",
       "      <td>0.9198</td>\n",
       "    </tr>\n",
       "    <tr>\n",
       "      <th>24</th>\n",
       "      <td>0.299742</td>\n",
       "      <td>0.915345</td>\n",
       "      <td>0.282753</td>\n",
       "      <td>0.9218</td>\n",
       "    </tr>\n",
       "    <tr>\n",
       "      <th>25</th>\n",
       "      <td>0.295557</td>\n",
       "      <td>0.916218</td>\n",
       "      <td>0.278782</td>\n",
       "      <td>0.9230</td>\n",
       "    </tr>\n",
       "    <tr>\n",
       "      <th>26</th>\n",
       "      <td>0.291726</td>\n",
       "      <td>0.917164</td>\n",
       "      <td>0.275289</td>\n",
       "      <td>0.9236</td>\n",
       "    </tr>\n",
       "    <tr>\n",
       "      <th>27</th>\n",
       "      <td>0.287881</td>\n",
       "      <td>0.918818</td>\n",
       "      <td>0.271767</td>\n",
       "      <td>0.9240</td>\n",
       "    </tr>\n",
       "    <tr>\n",
       "      <th>28</th>\n",
       "      <td>0.284316</td>\n",
       "      <td>0.919491</td>\n",
       "      <td>0.269050</td>\n",
       "      <td>0.9248</td>\n",
       "    </tr>\n",
       "    <tr>\n",
       "      <th>29</th>\n",
       "      <td>0.280823</td>\n",
       "      <td>0.920818</td>\n",
       "      <td>0.265606</td>\n",
       "      <td>0.9258</td>\n",
       "    </tr>\n",
       "  </tbody>\n",
       "</table>\n",
       "</div>"
      ],
      "text/plain": [
       "        loss  accuracy  val_loss  val_accuracy\n",
       "0   2.017428  0.401127  1.733096        0.6364\n",
       "1   1.471451  0.711509  1.205875        0.7720\n",
       "2   1.035121  0.793618  0.870753        0.8184\n",
       "3   0.785971  0.827855  0.691960        0.8414\n",
       "4   0.649563  0.847909  0.588294        0.8580\n",
       "5   0.567465  0.861764  0.522615        0.8710\n",
       "6   0.513637  0.870600  0.477343        0.8796\n",
       "7   0.475661  0.876764  0.444677        0.8844\n",
       "8   0.447436  0.882073  0.419413        0.8888\n",
       "9   0.425441  0.885800  0.399677        0.8934\n",
       "10  0.407658  0.889964  0.383253        0.8970\n",
       "11  0.392818  0.893382  0.369551        0.9008\n",
       "12  0.380361  0.895709  0.358286        0.9032\n",
       "13  0.369370  0.898109  0.347968        0.9042\n",
       "14  0.359832  0.900055  0.339036        0.9062\n",
       "15  0.351270  0.902236  0.330946        0.9094\n",
       "16  0.343549  0.903745  0.323977        0.9112\n",
       "17  0.336516  0.905673  0.317259        0.9128\n",
       "18  0.330109  0.907509  0.311472        0.9140\n",
       "19  0.324217  0.908582  0.305707        0.9148\n",
       "20  0.318656  0.910709  0.300750        0.9166\n",
       "21  0.313472  0.911327  0.295727        0.9180\n",
       "22  0.308642  0.912509  0.290835        0.9200\n",
       "23  0.304090  0.913509  0.287253        0.9198\n",
       "24  0.299742  0.915345  0.282753        0.9218\n",
       "25  0.295557  0.916218  0.278782        0.9230\n",
       "26  0.291726  0.917164  0.275289        0.9236\n",
       "27  0.287881  0.918818  0.271767        0.9240\n",
       "28  0.284316  0.919491  0.269050        0.9248\n",
       "29  0.280823  0.920818  0.265606        0.9258"
      ]
     },
     "execution_count": 28,
     "metadata": {},
     "output_type": "execute_result"
    }
   ],
   "source": [
    "pd.DataFrame(history.history)"
   ]
  },
  {
   "cell_type": "code",
   "execution_count": 29,
   "id": "64ff0179941c25b0",
   "metadata": {
    "ExecuteTime": {
     "end_time": "2023-09-18T06:43:05.807296800Z",
     "start_time": "2023-09-18T06:43:04.232055Z"
    },
    "collapsed": false
   },
   "outputs": [
    {
     "name": "stdout",
     "output_type": "stream",
     "text": [
      "313/313 [==============================] - 1s 3ms/step - loss: 0.2715 - accuracy: 0.9245\n"
     ]
    },
    {
     "data": {
      "text/plain": [
       "[0.2714895009994507, 0.9244999885559082]"
      ]
     },
     "execution_count": 29,
     "metadata": {},
     "output_type": "execute_result"
    }
   ],
   "source": [
    "ckpt_model = tf.keras.models.load_model(CKPT_path)\n",
    "ckpt_model.evaluate(x_test,y_test)\n",
    "#history = ckpt_model.fit(x_train,y_train,epochs=5,validation_data = VALIDATION_SET,callbacks=[tb_cb,early_stopping_cb,checkpoint_cb])"
   ]
  },
  {
   "cell_type": "code",
   "execution_count": 30,
   "id": "d328c9838bf1c91",
   "metadata": {
    "ExecuteTime": {
     "end_time": "2023-09-18T06:43:07.368701800Z",
     "start_time": "2023-09-18T06:43:05.792296700Z"
    },
    "collapsed": false
   },
   "outputs": [
    {
     "data": {
      "text/plain": [
       "<Axes: >"
      ]
     },
     "execution_count": 30,
     "metadata": {},
     "output_type": "execute_result"
    },
    {
     "data": {
      "image/png": "[encoded data removed]",
      "text/plain": [
       "<Figure size 700x700 with 2 Axes>"
      ]
     },
     "metadata": {},
     "output_type": "display_data"
    }
   ],
   "source": [
    "plt.figure(figsize=(7,7))\n",
    "sns.heatmap(x_test[0],annot=False,cmap=\"binary\")"
   ]
  },
  {
   "cell_type": "code",
   "execution_count": 31,
   "id": "65137adc42dbb400",
   "metadata": {
    "ExecuteTime": {
     "end_time": "2023-09-18T06:43:07.546406200Z",
     "start_time": "2023-09-18T06:43:07.356860200Z"
    },
    "collapsed": false
   },
   "outputs": [
    {
     "name": "stdout",
     "output_type": "stream",
     "text": [
      "1/1 [==============================] - 0s 117ms/step\n"
     ]
    },
    {
     "data": {
      "text/plain": [
       "array([[0.001, 0.   , 0.001, 0.003, 0.   , 0.   , 0.   , 0.994, 0.   ,\n",
       "        0.002]], dtype=float32)"
      ]
     },
     "execution_count": 31,
     "metadata": {},
     "output_type": "execute_result"
    }
   ],
   "source": [
    "y_prob = ckpt_model.predict(x_test[:1])\n",
    "y_prob.round(3)"
   ]
  },
  {
   "cell_type": "code",
   "execution_count": 32,
   "id": "6826ceab10ff2471",
   "metadata": {
    "ExecuteTime": {
     "end_time": "2023-09-18T06:43:07.632185400Z",
     "start_time": "2023-09-18T06:43:07.544408900Z"
    },
    "collapsed": false
   },
   "outputs": [
    {
     "name": "stdout",
     "output_type": "stream",
     "text": [
      "[7]\n"
     ]
    }
   ],
   "source": [
    "y_predict = np.argmax(y_prob,axis=-1)\n",
    "print(y_predict)"
   ]
  },
  {
   "cell_type": "code",
   "execution_count": 33,
   "id": "1c2627b45c5d8020",
   "metadata": {
    "ExecuteTime": {
     "end_time": "2023-09-18T06:43:07.665444800Z",
     "start_time": "2023-09-18T06:43:07.560214300Z"
    },
    "collapsed": false
   },
   "outputs": [],
   "source": [
    "del model\n",
    "del ckpt_model"
   ]
  },
  {
   "cell_type": "code",
   "execution_count": 34,
   "id": "f4a7b1007b515ae",
   "metadata": {
    "ExecuteTime": {
     "end_time": "2023-09-18T06:43:07.666454400Z",
     "start_time": "2023-09-18T06:43:07.575700800Z"
    },
    "collapsed": false
   },
   "outputs": [],
   "source": [
    "from keras.models import Sequential\n",
    "from keras.layers import Dense,Flatten,BatchNormalization,Dropout,LeakyReLU\n",
    "from keras import regularizers"
   ]
  },
  {
   "cell_type": "code",
   "execution_count": 35,
   "id": "9155790a4b9abd96",
   "metadata": {
    "ExecuteTime": {
     "end_time": "2023-09-18T06:43:07.887581400Z",
     "start_time": "2023-09-18T06:43:07.591893800Z"
    },
    "collapsed": false
   },
   "outputs": [],
   "source": [
    "model = Sequential()\n",
    "model.add(Flatten(input_shape=[28,28]))\n",
    "model.add(Dense(units=256,kernel_regularizer=regularizers.L1L2(0.0001,0.0001)))\n",
    "model.add(BatchNormalization())\n",
    "model.add(LeakyReLU())\n",
    "model.add(Dropout(0.1))\n",
    "model.add(Dense(units=128,kernel_regularizer=regularizers.L1L2(0.0001,0.0001)))\n",
    "model.add(BatchNormalization())\n",
    "model.add(LeakyReLU())\n",
    "model.add(Dropout(0.1))\n",
    "model.add(Dense(units=64,kernel_regularizer=regularizers.L1L2(0.0001,0.0001)))\n",
    "model.add(BatchNormalization())\n",
    "model.add(LeakyReLU())\n",
    "model.add(Dropout(0.1))\n",
    "model.add(Dense(units=32,kernel_regularizer=regularizers.L1L2(0.0001,0.0001)))\n",
    "model.add(BatchNormalization())\n",
    "model.add(LeakyReLU())\n",
    "model.add(Dropout(0.1))\n",
    "model.add(Dense(units=16,kernel_regularizer=regularizers.L1L2(0.0001,0.0001)))\n",
    "model.add(BatchNormalization())\n",
    "model.add(LeakyReLU())\n",
    "model.add(Dropout(0.1))\n",
    "model.add(Dense(units=10,activation=\"softmax\"))"
   ]
  },
  {
   "cell_type": "code",
   "execution_count": 36,
   "id": "f751b2849758e750",
   "metadata": {
    "ExecuteTime": {
     "end_time": "2023-09-18T06:43:08.058647300Z",
     "start_time": "2023-09-18T06:43:07.887581400Z"
    },
    "collapsed": false
   },
   "outputs": [
    {
     "name": "stdout",
     "output_type": "stream",
     "text": [
      "Model: \"sequential_1\"\n",
      "_________________________________________________________________\n",
      " Layer (type)                Output Shape              Param #   \n",
      "=================================================================\n",
      " flatten (Flatten)           (None, 784)               0         \n",
      "                                                                 \n",
      " dense (Dense)               (None, 256)               200960    \n",
      "                                                                 \n",
      " batch_normalization (Batch  (None, 256)               1024      \n",
      " Normalization)                                                  \n",
      "                                                                 \n",
      " leaky_re_lu (LeakyReLU)     (None, 256)               0         \n",
      "                                                                 \n",
      " dropout (Dropout)           (None, 256)               0         \n",
      "                                                                 \n",
      " dense_1 (Dense)             (None, 128)               32896     \n",
      "                                                                 \n",
      " batch_normalization_1 (Bat  (None, 128)               512       \n",
      " chNormalization)                                                \n",
      "                                                                 \n",
      " leaky_re_lu_1 (LeakyReLU)   (None, 128)               0         \n",
      "                                                                 \n",
      " dropout_1 (Dropout)         (None, 128)               0         \n",
      "                                                                 \n",
      " dense_2 (Dense)             (None, 64)                8256      \n",
      "                                                                 \n",
      " batch_normalization_2 (Bat  (None, 64)                256       \n",
      " chNormalization)                                                \n",
      "                                                                 \n",
      " leaky_re_lu_2 (LeakyReLU)   (None, 64)                0         \n",
      "                                                                 \n",
      " dropout_2 (Dropout)         (None, 64)                0         \n",
      "                                                                 \n",
      " dense_3 (Dense)             (None, 32)                2080      \n",
      "                                                                 \n",
      " batch_normalization_3 (Bat  (None, 32)                128       \n",
      " chNormalization)                                                \n",
      "                                                                 \n",
      " leaky_re_lu_3 (LeakyReLU)   (None, 32)                0         \n",
      "                                                                 \n",
      " dropout_3 (Dropout)         (None, 32)                0         \n",
      "                                                                 \n",
      " dense_4 (Dense)             (None, 16)                528       \n",
      "                                                                 \n",
      " batch_normalization_4 (Bat  (None, 16)                64        \n",
      " chNormalization)                                                \n",
      "                                                                 \n",
      " leaky_re_lu_4 (LeakyReLU)   (None, 16)                0         \n",
      "                                                                 \n",
      " dropout_4 (Dropout)         (None, 16)                0         \n",
      "                                                                 \n",
      " dense_5 (Dense)             (None, 10)                170       \n",
      "                                                                 \n",
      "=================================================================\n",
      "Total params: 246874 (964.35 KB)\n",
      "Trainable params: 245882 (960.48 KB)\n",
      "Non-trainable params: 992 (3.88 KB)\n",
      "_________________________________________________________________\n"
     ]
    }
   ],
   "source": [
    "model.summary()"
   ]
  },
  {
   "cell_type": "code",
   "execution_count": 37,
   "id": "98452c0f391702b7",
   "metadata": {
    "ExecuteTime": {
     "end_time": "2023-09-18T06:47:56.227490700Z",
     "start_time": "2023-09-18T06:43:07.951595200Z"
    },
    "collapsed": false
   },
   "outputs": [
    {
     "name": "stdout",
     "output_type": "stream",
     "text": [
      "Saving logs at logs/fit\\2_log_23_09_18_12_13_07\n",
      "Epoch 1/30\n",
      "860/860 [==============================] - 10s 8ms/step - loss: 1.1541 - accuracy: 0.8739 - val_loss: 0.6673 - val_accuracy: 0.9458\n",
      "Epoch 2/30\n",
      " 16/860 [..............................] - ETA: 6s - loss: 0.7535 - accuracy: 0.9297"
     ]
    },
    {
     "name": "stderr",
     "output_type": "stream",
     "text": [
      "D:\\ML Project\\ANN\\venv\\lib\\site-packages\\keras\\src\\engine\\training.py:3000: UserWarning: You are saving your model as an HDF5 file via `model.save()`. This file format is considered legacy. We recommend using instead the native Keras format, e.g. `model.save('my_model.keras')`.\n",
      "  saving_api.save_model(\n"
     ]
    },
    {
     "name": "stdout",
     "output_type": "stream",
     "text": [
      "860/860 [==============================] - 6s 7ms/step - loss: 0.6852 - accuracy: 0.9240 - val_loss: 0.5387 - val_accuracy: 0.9516\n",
      "Epoch 3/30\n",
      "860/860 [==============================] - 6s 7ms/step - loss: 0.5891 - accuracy: 0.9304 - val_loss: 0.4788 - val_accuracy: 0.9564\n",
      "Epoch 4/30\n",
      "860/860 [==============================] - 6s 7ms/step - loss: 0.5393 - accuracy: 0.9357 - val_loss: 0.4536 - val_accuracy: 0.9564\n",
      "Epoch 5/30\n",
      "860/860 [==============================] - 6s 7ms/step - loss: 0.5051 - accuracy: 0.9388 - val_loss: 0.4055 - val_accuracy: 0.9638\n",
      "Epoch 6/30\n",
      "860/860 [==============================] - 6s 7ms/step - loss: 0.4862 - accuracy: 0.9411 - val_loss: 0.4243 - val_accuracy: 0.9538\n",
      "Epoch 7/30\n",
      "860/860 [==============================] - 6s 7ms/step - loss: 0.4673 - accuracy: 0.9438 - val_loss: 0.3919 - val_accuracy: 0.9626\n",
      "Epoch 8/30\n",
      "860/860 [==============================] - 6s 7ms/step - loss: 0.4520 - accuracy: 0.9437 - val_loss: 0.3715 - val_accuracy: 0.9640\n",
      "Epoch 9/30\n",
      "860/860 [==============================] - 6s 7ms/step - loss: 0.4371 - accuracy: 0.9455 - val_loss: 0.3720 - val_accuracy: 0.9626\n",
      "Epoch 10/30\n",
      "860/860 [==============================] - 6s 8ms/step - loss: 0.4265 - accuracy: 0.9467 - val_loss: 0.3606 - val_accuracy: 0.9664\n",
      "Epoch 11/30\n",
      "860/860 [==============================] - 9s 11ms/step - loss: 0.4191 - accuracy: 0.9480 - val_loss: 0.4019 - val_accuracy: 0.9528\n",
      "Epoch 12/30\n",
      "860/860 [==============================] - 11s 13ms/step - loss: 0.4106 - accuracy: 0.9487 - val_loss: 0.3532 - val_accuracy: 0.9620\n",
      "Epoch 13/30\n",
      "860/860 [==============================] - 13s 15ms/step - loss: 0.4030 - accuracy: 0.9483 - val_loss: 0.3636 - val_accuracy: 0.9574\n",
      "Epoch 14/30\n",
      "860/860 [==============================] - 13s 16ms/step - loss: 0.3945 - accuracy: 0.9505 - val_loss: 0.3161 - val_accuracy: 0.9690\n",
      "Epoch 15/30\n",
      "860/860 [==============================] - 14s 16ms/step - loss: 0.3929 - accuracy: 0.9490 - val_loss: 0.3195 - val_accuracy: 0.9696\n",
      "Epoch 16/30\n",
      "860/860 [==============================] - 14s 16ms/step - loss: 0.3798 - accuracy: 0.9523 - val_loss: 0.3270 - val_accuracy: 0.9690\n",
      "Epoch 17/30\n",
      "860/860 [==============================] - 14s 17ms/step - loss: 0.3852 - accuracy: 0.9506 - val_loss: 0.3105 - val_accuracy: 0.9720\n",
      "Epoch 18/30\n",
      "860/860 [==============================] - 13s 16ms/step - loss: 0.3785 - accuracy: 0.9505 - val_loss: 0.3130 - val_accuracy: 0.9698\n",
      "Epoch 19/30\n",
      "860/860 [==============================] - 13s 15ms/step - loss: 0.3711 - accuracy: 0.9533 - val_loss: 0.3005 - val_accuracy: 0.9722\n",
      "Epoch 20/30\n",
      "860/860 [==============================] - 8s 10ms/step - loss: 0.3660 - accuracy: 0.9528 - val_loss: 0.3065 - val_accuracy: 0.9710\n",
      "Epoch 21/30\n",
      "860/860 [==============================] - 8s 10ms/step - loss: 0.3693 - accuracy: 0.9522 - val_loss: 0.3098 - val_accuracy: 0.9720\n",
      "Epoch 22/30\n",
      "860/860 [==============================] - 9s 10ms/step - loss: 0.3603 - accuracy: 0.9525 - val_loss: 0.3100 - val_accuracy: 0.9666\n",
      "Epoch 23/30\n",
      "860/860 [==============================] - 9s 10ms/step - loss: 0.3670 - accuracy: 0.9522 - val_loss: 0.2925 - val_accuracy: 0.9740\n",
      "Epoch 24/30\n",
      "860/860 [==============================] - 9s 10ms/step - loss: 0.3629 - accuracy: 0.9514 - val_loss: 0.3215 - val_accuracy: 0.9624\n",
      "Epoch 25/30\n",
      "860/860 [==============================] - 8s 9ms/step - loss: 0.3520 - accuracy: 0.9552 - val_loss: 0.3099 - val_accuracy: 0.9678\n",
      "Epoch 26/30\n",
      "860/860 [==============================] - 7s 8ms/step - loss: 0.3529 - accuracy: 0.9535 - val_loss: 0.2912 - val_accuracy: 0.9730\n",
      "Epoch 27/30\n",
      "860/860 [==============================] - 12s 13ms/step - loss: 0.3529 - accuracy: 0.9540 - val_loss: 0.2936 - val_accuracy: 0.9714\n",
      "Epoch 28/30\n",
      "860/860 [==============================] - 15s 17ms/step - loss: 0.3514 - accuracy: 0.9540 - val_loss: 0.2931 - val_accuracy: 0.9736\n",
      "Epoch 29/30\n",
      "860/860 [==============================] - 12s 14ms/step - loss: 0.3509 - accuracy: 0.9539 - val_loss: 0.3089 - val_accuracy: 0.9678\n",
      "Epoch 30/30\n",
      "860/860 [==============================] - 14s 16ms/step - loss: 0.3482 - accuracy: 0.9540 - val_loss: 0.2885 - val_accuracy: 0.9742\n"
     ]
    }
   ],
   "source": [
    "def get_log_path(log_dir=\"logs/fit\"):\n",
    "    filename = time.strftime(\"2_log_%y_%m_%d_%H_%M_%S\")\n",
    "    logs_path = os.path.join(log_dir, filename)\n",
    "    print(f\"Saving logs at {logs_path}\")\n",
    "    return logs_path\n",
    "\n",
    "log_dirs = get_log_path()\n",
    "tb_cb = tf.keras.callbacks.TensorBoard(log_dir=log_dirs)\n",
    "\n",
    "early_stopping_cb = tf.keras.callbacks.EarlyStopping(patience=5, restore_best_weights=True)\n",
    "\n",
    "CKPT_path = os.path.join(\"Models\",\"Model_ckpt_Digit_mnist_2.h5\")\n",
    "checkpoint_cb = tf.keras.callbacks.ModelCheckpoint(CKPT_path, save_best_only=True)\n",
    "\n",
    "EPOCHS = 30\n",
    "VALIDATION_SET = (x_valid, y_valid)\n",
    "\n",
    "loss_function = \"sparse_categorical_crossentropy\"\n",
    "OPTIMIZER = tf.keras.optimizers.Adam(learning_rate=0.001)\n",
    "METRICS = [\"accuracy\"]\n",
    "\n",
    "model.compile(\n",
    "    loss=loss_function,\n",
    "    optimizer=OPTIMIZER,\n",
    "    metrics=METRICS\n",
    ")\n",
    "\n",
    "history = model.fit(x_train, y_train, epochs=EPOCHS, validation_data=VALIDATION_SET, batch_size=64,callbacks=[tb_cb, early_stopping_cb, checkpoint_cb])"
   ]
  },
  {
   "cell_type": "code",
   "execution_count": 38,
   "id": "8ed2fe654d4bb67d",
   "metadata": {
    "ExecuteTime": {
     "end_time": "2023-09-18T06:47:57.397433Z",
     "start_time": "2023-09-18T06:47:56.202493700Z"
    },
    "collapsed": false
   },
   "outputs": [
    {
     "data": {
      "text/plain": [
       "<Axes: >"
      ]
     },
     "execution_count": 38,
     "metadata": {},
     "output_type": "execute_result"
    },
    {
     "data": {
      "image/png": "[encoded data removed]",
      "text/plain": [
       "<Figure size 640x480 with 1 Axes>"
      ]
     },
     "metadata": {},
     "output_type": "display_data"
    }
   ],
   "source": [
    "pd.DataFrame(history.history).plot()"
   ]
  },
  {
   "cell_type": "code",
   "execution_count": 39,
   "id": "ace54f3569de221e",
   "metadata": {
    "ExecuteTime": {
     "end_time": "2023-09-18T06:48:01.245517Z",
     "start_time": "2023-09-18T06:47:57.311814200Z"
    },
    "collapsed": false
   },
   "outputs": [
    {
     "name": "stdout",
     "output_type": "stream",
     "text": [
      "313/313 [==============================] - 3s 6ms/step - loss: 0.2807 - accuracy: 0.9744\n"
     ]
    },
    {
     "data": {
      "text/plain": [
       "[0.2807265520095825, 0.974399983882904]"
      ]
     },
     "execution_count": 39,
     "metadata": {},
     "output_type": "execute_result"
    }
   ],
   "source": [
    "ckpt_model = tf.keras.models.load_model(CKPT_path)\n",
    "ckpt_model.evaluate(x_test,y_test)"
   ]
  },
  {
   "cell_type": "code",
   "execution_count": 40,
   "id": "79fb15394fa061db",
   "metadata": {
    "ExecuteTime": {
     "end_time": "2023-09-18T06:48:01.254192700Z",
     "start_time": "2023-09-18T06:48:01.174492200Z"
    },
    "collapsed": false
   },
   "outputs": [],
   "source": [
    "del model\n",
    "del ckpt_model"
   ]
  },
  {
   "cell_type": "code",
   "execution_count": 41,
   "id": "10c6aa3ade7ad846",
   "metadata": {
    "ExecuteTime": {
     "end_time": "2023-09-18T06:48:01.813048700Z",
     "start_time": "2023-09-18T06:48:01.209817700Z"
    },
    "collapsed": false
   },
   "outputs": [],
   "source": [
    "model = Sequential()\n",
    "model.add(Flatten(input_shape=[28,28]))\n",
    "model.add(Dense(units=256,kernel_regularizer=regularizers.L1L2(0.0001,0.0001),kernel_initializer=tf.keras.initializers.HeNormal(seed=42)))\n",
    "model.add(BatchNormalization())\n",
    "model.add(LeakyReLU())\n",
    "model.add(Dropout(0.1))\n",
    "model.add(Dense(units=128,kernel_regularizer=regularizers.L1L2(0.0001,0.0001),kernel_initializer=tf.keras.initializers.HeNormal(seed=42)))\n",
    "model.add(BatchNormalization())\n",
    "model.add(LeakyReLU())\n",
    "model.add(Dropout(0.1))\n",
    "model.add(Dense(units=64,kernel_regularizer=regularizers.L1L2(0.0001,0.0001),kernel_initializer=tf.keras.initializers.HeNormal(seed=42)))\n",
    "model.add(BatchNormalization())\n",
    "model.add(LeakyReLU())\n",
    "model.add(Dropout(0.1))\n",
    "model.add(Dense(units=32,kernel_regularizer=regularizers.L1L2(0.0001,0.0001),kernel_initializer=tf.keras.initializers.HeNormal(seed=42)))\n",
    "model.add(BatchNormalization())\n",
    "model.add(LeakyReLU())\n",
    "model.add(Dropout(0.1))\n",
    "model.add(Dense(units=16,kernel_regularizer=regularizers.L1L2(0.0001,0.0001),kernel_initializer=tf.keras.initializers.HeNormal(seed=42)))\n",
    "model.add(BatchNormalization())\n",
    "model.add(LeakyReLU())\n",
    "model.add(Dropout(0.1))\n",
    "model.add(Dense(units=10,activation=\"softmax\"))"
   ]
  },
  {
   "cell_type": "code",
   "execution_count": 42,
   "id": "58ff7b851c5f47d8",
   "metadata": {
    "ExecuteTime": {
     "end_time": "2023-09-18T06:48:02.367058100Z",
     "start_time": "2023-09-18T06:48:01.817954900Z"
    },
    "collapsed": false
   },
   "outputs": [
    {
     "name": "stdout",
     "output_type": "stream",
     "text": [
      "Model: \"sequential_2\"\n",
      "_________________________________________________________________\n",
      " Layer (type)                Output Shape              Param #   \n",
      "=================================================================\n",
      " flatten_1 (Flatten)         (None, 784)               0         \n",
      "                                                                 \n",
      " dense_6 (Dense)             (None, 256)               200960    \n",
      "                                                                 \n",
      " batch_normalization_5 (Bat  (None, 256)               1024      \n",
      " chNormalization)                                                \n",
      "                                                                 \n",
      " leaky_re_lu_5 (LeakyReLU)   (None, 256)               0         \n",
      "                                                                 \n",
      " dropout_5 (Dropout)         (None, 256)               0         \n",
      "                                                                 \n",
      " dense_7 (Dense)             (None, 128)               32896     \n",
      "                                                                 \n",
      " batch_normalization_6 (Bat  (None, 128)               512       \n",
      " chNormalization)                                                \n",
      "                                                                 \n",
      " leaky_re_lu_6 (LeakyReLU)   (None, 128)               0         \n",
      "                                                                 \n",
      " dropout_6 (Dropout)         (None, 128)               0         \n",
      "                                                                 \n",
      " dense_8 (Dense)             (None, 64)                8256      \n",
      "                                                                 \n",
      " batch_normalization_7 (Bat  (None, 64)                256       \n",
      " chNormalization)                                                \n",
      "                                                                 \n",
      " leaky_re_lu_7 (LeakyReLU)   (None, 64)                0         \n",
      "                                                                 \n",
      " dropout_7 (Dropout)         (None, 64)                0         \n",
      "                                                                 \n",
      " dense_9 (Dense)             (None, 32)                2080      \n",
      "                                                                 \n",
      " batch_normalization_8 (Bat  (None, 32)                128       \n",
      " chNormalization)                                                \n",
      "                                                                 \n",
      " leaky_re_lu_8 (LeakyReLU)   (None, 32)                0         \n",
      "                                                                 \n",
      " dropout_8 (Dropout)         (None, 32)                0         \n",
      "                                                                 \n",
      " dense_10 (Dense)            (None, 16)                528       \n",
      "                                                                 \n",
      " batch_normalization_9 (Bat  (None, 16)                64        \n",
      " chNormalization)                                                \n",
      "                                                                 \n",
      " leaky_re_lu_9 (LeakyReLU)   (None, 16)                0         \n",
      "                                                                 \n",
      " dropout_9 (Dropout)         (None, 16)                0         \n",
      "                                                                 \n",
      " dense_11 (Dense)            (None, 10)                170       \n",
      "                                                                 \n",
      "=================================================================\n",
      "Total params: 246874 (964.35 KB)\n",
      "Trainable params: 245882 (960.48 KB)\n",
      "Non-trainable params: 992 (3.88 KB)\n",
      "_________________________________________________________________\n"
     ]
    }
   ],
   "source": [
    "model.summary()"
   ]
  },
  {
   "cell_type": "code",
   "execution_count": 43,
   "id": "7481d756be767891",
   "metadata": {
    "ExecuteTime": {
     "end_time": "2023-09-18T06:54:29.945630200Z",
     "start_time": "2023-09-18T06:48:01.998127400Z"
    },
    "collapsed": false
   },
   "outputs": [
    {
     "name": "stdout",
     "output_type": "stream",
     "text": [
      "Saving logs at logs/fit\\3_log_23_09_18_12_18_01\n",
      "Epoch 1/30\n",
      "860/860 [==============================] - 23s 19ms/step - loss: 1.4583 - accuracy: 0.8083 - val_loss: 0.7820 - val_accuracy: 0.9396\n",
      "Epoch 2/30\n",
      "  1/860 [..............................] - ETA: 17s - loss: 0.9843 - accuracy: 0.8750"
     ]
    },
    {
     "name": "stderr",
     "output_type": "stream",
     "text": [
      "D:\\ML Project\\ANN\\venv\\lib\\site-packages\\keras\\src\\engine\\training.py:3000: UserWarning: You are saving your model as an HDF5 file via `model.save()`. This file format is considered legacy. We recommend using instead the native Keras format, e.g. `model.save('my_model.keras')`.\n",
      "  saving_api.save_model(\n"
     ]
    },
    {
     "name": "stdout",
     "output_type": "stream",
     "text": [
      "860/860 [==============================] - 15s 18ms/step - loss: 0.8705 - accuracy: 0.8925 - val_loss: 0.6217 - val_accuracy: 0.9484\n",
      "Epoch 3/30\n",
      "860/860 [==============================] - 14s 17ms/step - loss: 0.7434 - accuracy: 0.9062 - val_loss: 0.5485 - val_accuracy: 0.9534\n",
      "Epoch 4/30\n",
      "860/860 [==============================] - 15s 17ms/step - loss: 0.6679 - accuracy: 0.9153 - val_loss: 0.4974 - val_accuracy: 0.9610\n",
      "Epoch 5/30\n",
      "860/860 [==============================] - 15s 17ms/step - loss: 0.6294 - accuracy: 0.9213 - val_loss: 0.5185 - val_accuracy: 0.9492\n",
      "Epoch 6/30\n",
      "860/860 [==============================] - 15s 17ms/step - loss: 0.6056 - accuracy: 0.9237 - val_loss: 0.4654 - val_accuracy: 0.9606\n",
      "Epoch 7/30\n",
      "860/860 [==============================] - 15s 17ms/step - loss: 0.5849 - accuracy: 0.9269 - val_loss: 0.4502 - val_accuracy: 0.9600\n",
      "Epoch 8/30\n",
      "860/860 [==============================] - 15s 17ms/step - loss: 0.5720 - accuracy: 0.9287 - val_loss: 0.4417 - val_accuracy: 0.9614\n",
      "Epoch 9/30\n",
      "860/860 [==============================] - 15s 17ms/step - loss: 0.5568 - accuracy: 0.9296 - val_loss: 0.4410 - val_accuracy: 0.9586\n",
      "Epoch 10/30\n",
      "860/860 [==============================] - 15s 17ms/step - loss: 0.5483 - accuracy: 0.9302 - val_loss: 0.4227 - val_accuracy: 0.9640\n",
      "Epoch 11/30\n",
      "860/860 [==============================] - 15s 17ms/step - loss: 0.5390 - accuracy: 0.9321 - val_loss: 0.4125 - val_accuracy: 0.9660\n",
      "Epoch 12/30\n",
      "860/860 [==============================] - 15s 17ms/step - loss: 0.5282 - accuracy: 0.9344 - val_loss: 0.4405 - val_accuracy: 0.9596\n",
      "Epoch 13/30\n",
      "860/860 [==============================] - 15s 17ms/step - loss: 0.5211 - accuracy: 0.9347 - val_loss: 0.4196 - val_accuracy: 0.9594\n",
      "Epoch 14/30\n",
      "860/860 [==============================] - 15s 18ms/step - loss: 0.5116 - accuracy: 0.9351 - val_loss: 0.3964 - val_accuracy: 0.9662\n",
      "Epoch 15/30\n",
      "860/860 [==============================] - 15s 17ms/step - loss: 0.5115 - accuracy: 0.9343 - val_loss: 0.3988 - val_accuracy: 0.9680\n",
      "Epoch 16/30\n",
      "860/860 [==============================] - 14s 16ms/step - loss: 0.5087 - accuracy: 0.9350 - val_loss: 0.4169 - val_accuracy: 0.9588\n",
      "Epoch 17/30\n",
      "860/860 [==============================] - 10s 11ms/step - loss: 0.4988 - accuracy: 0.9361 - val_loss: 0.3960 - val_accuracy: 0.9620\n",
      "Epoch 18/30\n",
      "860/860 [==============================] - 10s 11ms/step - loss: 0.4967 - accuracy: 0.9363 - val_loss: 0.3994 - val_accuracy: 0.9644\n",
      "Epoch 19/30\n",
      "860/860 [==============================] - 9s 11ms/step - loss: 0.4869 - accuracy: 0.9371 - val_loss: 0.3668 - val_accuracy: 0.9678\n",
      "Epoch 20/30\n",
      "860/860 [==============================] - 8s 9ms/step - loss: 0.4834 - accuracy: 0.9367 - val_loss: 0.4060 - val_accuracy: 0.9562\n",
      "Epoch 21/30\n",
      "860/860 [==============================] - 8s 10ms/step - loss: 0.4852 - accuracy: 0.9367 - val_loss: 0.3607 - val_accuracy: 0.9694\n",
      "Epoch 22/30\n",
      "860/860 [==============================] - 13s 15ms/step - loss: 0.4841 - accuracy: 0.9369 - val_loss: 0.3701 - val_accuracy: 0.9702\n",
      "Epoch 23/30\n",
      "860/860 [==============================] - 14s 17ms/step - loss: 0.4752 - accuracy: 0.9387 - val_loss: 0.3590 - val_accuracy: 0.9708\n",
      "Epoch 24/30\n",
      "860/860 [==============================] - 13s 15ms/step - loss: 0.4816 - accuracy: 0.9367 - val_loss: 0.3714 - val_accuracy: 0.9654\n",
      "Epoch 25/30\n",
      "860/860 [==============================] - 14s 16ms/step - loss: 0.4750 - accuracy: 0.9381 - val_loss: 0.3720 - val_accuracy: 0.9648\n",
      "Epoch 26/30\n",
      "860/860 [==============================] - 14s 17ms/step - loss: 0.4756 - accuracy: 0.9369 - val_loss: 0.3785 - val_accuracy: 0.9614\n",
      "Epoch 27/30\n",
      "860/860 [==============================] - 15s 17ms/step - loss: 0.4693 - accuracy: 0.9386 - val_loss: 0.3829 - val_accuracy: 0.9626\n",
      "Epoch 28/30\n",
      "860/860 [==============================] - 14s 17ms/step - loss: 0.4676 - accuracy: 0.9388 - val_loss: 0.3674 - val_accuracy: 0.9642\n"
     ]
    }
   ],
   "source": [
    "def get_log_path(log_dir=\"logs/fit\"):\n",
    "    filename = time.strftime(\"3_log_%y_%m_%d_%H_%M_%S\")\n",
    "    logs_path = os.path.join(log_dir, filename)\n",
    "    print(f\"Saving logs at {logs_path}\")\n",
    "    return logs_path\n",
    "\n",
    "log_dirs = get_log_path()\n",
    "tb_cb = tf.keras.callbacks.TensorBoard(log_dir=log_dirs)\n",
    "\n",
    "early_stopping_cb = tf.keras.callbacks.EarlyStopping(patience=5, restore_best_weights=True)\n",
    "\n",
    "CKPT_path = os.path.join(\"Models\",\"Model_ckpt_Digit_mnist_3.h5\")\n",
    "checkpoint_cb = tf.keras.callbacks.ModelCheckpoint(CKPT_path, save_best_only=True)\n",
    "\n",
    "EPOCHS = 30\n",
    "VALIDATION_SET = (x_valid, y_valid)\n",
    "\n",
    "loss_function = \"sparse_categorical_crossentropy\"\n",
    "OPTIMIZER = tf.keras.optimizers.Adam(learning_rate=0.001)\n",
    "METRICS = [\"accuracy\"]\n",
    "\n",
    "model.compile(\n",
    "    loss=loss_function,\n",
    "    optimizer=OPTIMIZER,\n",
    "    metrics=METRICS\n",
    ")\n",
    "\n",
    "history = model.fit(x_train, y_train, epochs=EPOCHS, validation_data=VALIDATION_SET, batch_size=64,callbacks=[tb_cb, early_stopping_cb, checkpoint_cb])"
   ]
  },
  {
   "cell_type": "code",
   "execution_count": 44,
   "id": "d2651345bef3c88d",
   "metadata": {
    "ExecuteTime": {
     "end_time": "2023-09-18T06:54:35.046195300Z",
     "start_time": "2023-09-18T06:54:29.962165Z"
    },
    "collapsed": false
   },
   "outputs": [
    {
     "name": "stdout",
     "output_type": "stream",
     "text": [
      "313/313 [==============================] - 2s 5ms/step - loss: 0.3604 - accuracy: 0.9682\n"
     ]
    },
    {
     "data": {
      "text/plain": [
       "[0.36044567823410034, 0.9682000279426575]"
      ]
     },
     "execution_count": 44,
     "metadata": {},
     "output_type": "execute_result"
    }
   ],
   "source": [
    "ckpt_model = tf.keras.models.load_model(CKPT_path)\n",
    "ckpt_model.evaluate(x_test, y_test)"
   ]
  },
  {
   "cell_type": "code",
   "execution_count": 45,
   "id": "992ba00a197d53bf",
   "metadata": {
    "ExecuteTime": {
     "end_time": "2023-09-18T06:54:45.248601200Z",
     "start_time": "2023-09-18T06:54:34.950768200Z"
    },
    "collapsed": false
   },
   "outputs": [
    {
     "data": {
      "text/plain": [
       "Launching TensorBoard..."
      ]
     },
     "metadata": {},
     "output_type": "display_data"
    }
   ],
   "source": [
    "# %load_ext tensorboard\n",
    "# %tensorboard --logdir logs/fit"
   ]
  }
 ],
 "metadata": {
  "kernelspec": {
   "display_name": "Python 3",
   "language": "python",
   "name": "python3"
  },
  "language_info": {
   "codemirror_mode": {
    "name": "ipython",
    "version": 2
   },
   "file_extension": ".py",
   "mimetype": "text/x-python",
   "name": "python",
   "nbconvert_exporter": "python",
   "pygments_lexer": "ipython2",
   "version": "2.7.6"
  }
 },
 "nbformat": 4,
 "nbformat_minor": 5
}
