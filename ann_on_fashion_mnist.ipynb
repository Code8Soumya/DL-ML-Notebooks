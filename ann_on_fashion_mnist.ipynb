{
 "cells": [
  {
   "cell_type": "code",
   "execution_count": 22,
   "id": "initial_id",
   "metadata": {
    "ExecuteTime": {
     "end_time": "2023-09-16T10:38:20.308001400Z",
     "start_time": "2023-09-16T10:38:20.149541Z"
    },
    "collapsed": true
   },
   "outputs": [
    {
     "name": "stdout",
     "output_type": "stream",
     "text": [
      "The tensorboard extension is already loaded. To reload it, use:\n",
      "  %reload_ext tensorboard\n"
     ]
    }
   ],
   "source": [
    "import pandas as pd\n",
    "import numpy as np\n",
    "import matplotlib.pyplot as plt\n",
    "import tensorflow as tf\n",
    "import os\n",
    "import seaborn as sns\n",
    "import time\n",
    "%load_ext tensorboard"
   ]
  },
  {
   "cell_type": "code",
   "execution_count": 23,
   "id": "6bb7514e0e8a97d8",
   "metadata": {
    "ExecuteTime": {
     "end_time": "2023-09-16T10:38:20.698661Z",
     "start_time": "2023-09-16T10:38:20.162021600Z"
    },
    "collapsed": false
   },
   "outputs": [],
   "source": [
    "(x_train_full, y_train_full) , (x_test, y_test) = tf.keras.datasets.fashion_mnist.load_data()"
   ]
  },
  {
   "cell_type": "code",
   "execution_count": 24,
   "id": "579c97df33036d9b",
   "metadata": {
    "ExecuteTime": {
     "end_time": "2023-09-16T10:38:20.890341Z",
     "start_time": "2023-09-16T10:38:20.688604800Z"
    },
    "collapsed": false
   },
   "outputs": [],
   "source": [
    "x_valid, x_train = x_train_full[:5000]/255, x_train_full[5000:]/255\n",
    "y_valid, y_train = y_train_full[:5000], y_train_full[5000:]\n",
    "\n",
    "x_test = x_test/255"
   ]
  },
  {
   "cell_type": "code",
   "execution_count": 25,
   "id": "c2e2d4e09357b02c",
   "metadata": {
    "ExecuteTime": {
     "end_time": "2023-09-16T10:38:21.300360700Z",
     "start_time": "2023-09-16T10:38:20.892343200Z"
    },
    "collapsed": false
   },
   "outputs": [
    {
     "data": {
      "image/png": "[encoded data removed]",
      "text/plain": [
       "<Figure size 640x480 with 1 Axes>"
      ]
     },
     "metadata": {},
     "output_type": "display_data"
    }
   ],
   "source": [
    "plt.imshow(x_train[3], cmap=\"binary\")\n",
    "plt.show()"
   ]
  },
  {
   "cell_type": "code",
   "execution_count": 26,
   "id": "df4bbcfa020e873d",
   "metadata": {
    "ExecuteTime": {
     "end_time": "2023-09-16T10:38:21.459970700Z",
     "start_time": "2023-09-16T10:38:21.286312Z"
    },
    "collapsed": false
   },
   "outputs": [],
   "source": [
    "tf.random.set_seed(42)\n",
    "np.random.seed(42)"
   ]
  },
  {
   "cell_type": "code",
   "execution_count": 27,
   "id": "98f00b7ed1a9ee65",
   "metadata": {
    "ExecuteTime": {
     "end_time": "2023-09-16T10:38:21.486169900Z",
     "start_time": "2023-09-16T10:38:21.340120100Z"
    },
    "collapsed": false
   },
   "outputs": [],
   "source": [
    "LAYERS = [\n",
    "    tf.keras.layers.Flatten(input_shape=[28,28]),\n",
    "    tf.keras.layers.Dense(300,kernel_initializer=\"he_normal\"),\n",
    "    tf.keras.layers.LeakyReLU(),\n",
    "    tf.keras.layers.Dense(100,kernel_initializer=\"he_normal\"),\n",
    "    tf.keras.layers.LeakyReLU(),\n",
    "    tf.keras.layers.Dense(10,activation=\"softmax\")\n",
    "]\n",
    "\n",
    "model = tf.keras.models.Sequential(LAYERS)"
   ]
  },
  {
   "cell_type": "code",
   "execution_count": 28,
   "id": "2e100f1b6b75f45d",
   "metadata": {
    "ExecuteTime": {
     "end_time": "2023-09-16T10:38:21.517846800Z",
     "start_time": "2023-09-16T10:38:21.480135Z"
    },
    "collapsed": false
   },
   "outputs": [],
   "source": [
    "model.compile(loss=\"sparse_categorical_crossentropy\",\n",
    "              optimizer=tf.keras.optimizers.SGD(learning_rate=1e-3),\n",
    "              metrics=[\"accuracy\"]\n",
    "              )"
   ]
  },
  {
   "cell_type": "code",
   "execution_count": 29,
   "id": "ccd41b200e729d7a",
   "metadata": {
    "ExecuteTime": {
     "end_time": "2023-09-16T10:38:21.547112300Z",
     "start_time": "2023-09-16T10:38:21.510280900Z"
    },
    "collapsed": false
   },
   "outputs": [
    {
     "name": "stdout",
     "output_type": "stream",
     "text": [
      "Model: \"sequential_3\"\n",
      "_________________________________________________________________\n",
      " Layer (type)                Output Shape              Param #   \n",
      "=================================================================\n",
      " flatten_3 (Flatten)         (None, 784)               0         \n",
      "                                                                 \n",
      " dense_9 (Dense)             (None, 300)               235500    \n",
      "                                                                 \n",
      " leaky_re_lu_6 (LeakyReLU)   (None, 300)               0         \n",
      "                                                                 \n",
      " dense_10 (Dense)            (None, 100)               30100     \n",
      "                                                                 \n",
      " leaky_re_lu_7 (LeakyReLU)   (None, 100)               0         \n",
      "                                                                 \n",
      " dense_11 (Dense)            (None, 10)                1010      \n",
      "                                                                 \n",
      "=================================================================\n",
      "Total params: 266610 (1.02 MB)\n",
      "Trainable params: 266610 (1.02 MB)\n",
      "Non-trainable params: 0 (0.00 Byte)\n",
      "_________________________________________________________________\n"
     ]
    }
   ],
   "source": [
    "model.summary()"
   ]
  },
  {
   "cell_type": "code",
   "execution_count": 30,
   "id": "3741ba2eb484f1ec",
   "metadata": {
    "ExecuteTime": {
     "end_time": "2023-09-16T10:39:51.046639700Z",
     "start_time": "2023-09-16T10:38:21.544104600Z"
    },
    "collapsed": false
   },
   "outputs": [
    {
     "name": "stdout",
     "output_type": "stream",
     "text": [
      "Epoch 1/10\n",
      "1719/1719 [==============================] - 7s 4ms/step - loss: 1.3435 - accuracy: 0.5915 - val_loss: 0.9148 - val_accuracy: 0.7030\n",
      "Epoch 2/10\n",
      "1719/1719 [==============================] - 7s 4ms/step - loss: 0.8209 - accuracy: 0.7287 - val_loss: 0.7323 - val_accuracy: 0.7508\n",
      "Epoch 3/10\n",
      "1719/1719 [==============================] - 10s 6ms/step - loss: 0.6996 - accuracy: 0.7689 - val_loss: 0.6573 - val_accuracy: 0.7796\n",
      "Epoch 4/10\n",
      "1719/1719 [==============================] - 13s 8ms/step - loss: 0.6347 - accuracy: 0.7887 - val_loss: 0.6006 - val_accuracy: 0.7938\n",
      "Epoch 5/10\n",
      "1719/1719 [==============================] - 11s 7ms/step - loss: 0.5922 - accuracy: 0.8028 - val_loss: 0.5653 - val_accuracy: 0.8092\n",
      "Epoch 6/10\n",
      "1719/1719 [==============================] - 8s 4ms/step - loss: 0.5618 - accuracy: 0.8105 - val_loss: 0.5400 - val_accuracy: 0.8174\n",
      "Epoch 7/10\n",
      "1719/1719 [==============================] - 7s 4ms/step - loss: 0.5391 - accuracy: 0.8180 - val_loss: 0.5195 - val_accuracy: 0.8244\n",
      "Epoch 8/10\n",
      "1719/1719 [==============================] - 7s 4ms/step - loss: 0.5221 - accuracy: 0.8231 - val_loss: 0.5103 - val_accuracy: 0.8240\n",
      "Epoch 9/10\n",
      "1719/1719 [==============================] - 9s 5ms/step - loss: 0.5085 - accuracy: 0.8257 - val_loss: 0.4929 - val_accuracy: 0.8312\n",
      "Epoch 10/10\n",
      "1719/1719 [==============================] - 11s 6ms/step - loss: 0.4968 - accuracy: 0.8303 - val_loss: 0.4852 - val_accuracy: 0.8364\n"
     ]
    }
   ],
   "source": [
    "history = model.fit(x_train,y_train,epochs=10,validation_data=(x_valid,y_valid),verbose=1)"
   ]
  },
  {
   "cell_type": "code",
   "execution_count": 50,
   "id": "9e7f741a5e7a26cd",
   "metadata": {
    "ExecuteTime": {
     "end_time": "2023-09-16T11:46:01.203763200Z",
     "start_time": "2023-09-16T11:46:01.189758600Z"
    },
    "collapsed": false
   },
   "outputs": [],
   "source": [
    "del model"
   ]
  },
  {
   "cell_type": "code",
   "execution_count": 51,
   "id": "9104ef00c1273866",
   "metadata": {
    "ExecuteTime": {
     "end_time": "2023-09-16T11:46:02.868846100Z",
     "start_time": "2023-09-16T11:46:02.789117800Z"
    },
    "collapsed": false
   },
   "outputs": [],
   "source": [
    "LAYERS_BN = [\n",
    "    tf.keras.layers.Flatten(input_shape=[28,28]),\n",
    "    tf.keras.layers.BatchNormalization(),\n",
    "    tf.keras.layers.Dense(300),\n",
    "    tf.keras.layers.BatchNormalization(),\n",
    "    tf.keras.layers.LeakyReLU(),         \n",
    "    tf.keras.layers.Dense(100),\n",
    "    tf.keras.layers.BatchNormalization(),\n",
    "    tf.keras.layers.LeakyReLU(),   \n",
    "    tf.keras.layers.Dense(10,activation=\"softmax\")\n",
    "    ]\n",
    "\n",
    "model = tf.keras.models.Sequential(LAYERS_BN)"
   ]
  },
  {
   "cell_type": "code",
   "execution_count": 52,
   "id": "bba3921135c9520b",
   "metadata": {
    "ExecuteTime": {
     "end_time": "2023-09-16T11:46:09.628965800Z",
     "start_time": "2023-09-16T11:46:09.599882700Z"
    },
    "collapsed": false
   },
   "outputs": [
    {
     "name": "stdout",
     "output_type": "stream",
     "text": [
      "Model: \"sequential_8\"\n",
      "_________________________________________________________________\n",
      " Layer (type)                Output Shape              Param #   \n",
      "=================================================================\n",
      " flatten_8 (Flatten)         (None, 784)               0         \n",
      "                                                                 \n",
      " batch_normalization_18 (Ba  (None, 784)               3136      \n",
      " tchNormalization)                                               \n",
      "                                                                 \n",
      " dense_24 (Dense)            (None, 300)               235500    \n",
      "                                                                 \n",
      " batch_normalization_19 (Ba  (None, 300)               1200      \n",
      " tchNormalization)                                               \n",
      "                                                                 \n",
      " leaky_re_lu_16 (LeakyReLU)  (None, 300)               0         \n",
      "                                                                 \n",
      " dense_25 (Dense)            (None, 100)               30100     \n",
      "                                                                 \n",
      " batch_normalization_20 (Ba  (None, 100)               400       \n",
      " tchNormalization)                                               \n",
      "                                                                 \n",
      " leaky_re_lu_17 (LeakyReLU)  (None, 100)               0         \n",
      "                                                                 \n",
      " dense_26 (Dense)            (None, 10)                1010      \n",
      "                                                                 \n",
      "=================================================================\n",
      "Total params: 271346 (1.04 MB)\n",
      "Trainable params: 268978 (1.03 MB)\n",
      "Non-trainable params: 2368 (9.25 KB)\n",
      "_________________________________________________________________\n"
     ]
    }
   ],
   "source": [
    "model.summary()"
   ]
  },
  {
   "cell_type": "code",
   "execution_count": 53,
   "id": "1de1a5afda4896db",
   "metadata": {
    "ExecuteTime": {
     "end_time": "2023-09-16T11:46:10.613699Z",
     "start_time": "2023-09-16T11:46:10.599604400Z"
    },
    "collapsed": false
   },
   "outputs": [],
   "source": [
    "model.compile (loss=\"sparse_categorical_crossentropy\",\n",
    "              optimizer=tf.keras.optimizers.Adam(learning_rate=1e-3),\n",
    "              metrics=[\"accuracy\"]\n",
    "            )"
   ]
  },
  {
   "cell_type": "code",
   "execution_count": 54,
   "id": "1195ba78ac0958",
   "metadata": {
    "ExecuteTime": {
     "end_time": "2023-09-16T11:47:36.671529300Z",
     "start_time": "2023-09-16T11:46:12.247481900Z"
    },
    "collapsed": false
   },
   "outputs": [
    {
     "name": "stdout",
     "output_type": "stream",
     "text": [
      "Epoch 1/30\n",
      "550/550 [==============================] - 3s 4ms/step - loss: 0.4640 - accuracy: 0.8346 - val_loss: 0.3658 - val_accuracy: 0.8670\n",
      "Epoch 2/30\n",
      "550/550 [==============================] - 2s 4ms/step - loss: 0.3603 - accuracy: 0.8699 - val_loss: 0.3342 - val_accuracy: 0.8846\n",
      "Epoch 3/30\n",
      "550/550 [==============================] - 2s 4ms/step - loss: 0.3261 - accuracy: 0.8815 - val_loss: 0.3643 - val_accuracy: 0.8706\n",
      "Epoch 4/30\n",
      "550/550 [==============================] - 2s 4ms/step - loss: 0.3044 - accuracy: 0.8879 - val_loss: 0.3268 - val_accuracy: 0.8794\n",
      "Epoch 5/30\n",
      "550/550 [==============================] - 2s 4ms/step - loss: 0.2846 - accuracy: 0.8951 - val_loss: 0.3059 - val_accuracy: 0.8878\n",
      "Epoch 6/30\n",
      "550/550 [==============================] - 3s 5ms/step - loss: 0.2745 - accuracy: 0.8973 - val_loss: 0.3199 - val_accuracy: 0.8822\n",
      "Epoch 7/30\n",
      "550/550 [==============================] - 3s 5ms/step - loss: 0.2583 - accuracy: 0.9040 - val_loss: 0.3139 - val_accuracy: 0.8878\n",
      "Epoch 8/30\n",
      "550/550 [==============================] - 3s 5ms/step - loss: 0.2487 - accuracy: 0.9063 - val_loss: 0.3125 - val_accuracy: 0.8854\n",
      "Epoch 9/30\n",
      "550/550 [==============================] - 3s 5ms/step - loss: 0.2360 - accuracy: 0.9120 - val_loss: 0.3026 - val_accuracy: 0.8928\n",
      "Epoch 10/30\n",
      "550/550 [==============================] - 3s 5ms/step - loss: 0.2281 - accuracy: 0.9155 - val_loss: 0.3076 - val_accuracy: 0.8900\n",
      "Epoch 11/30\n",
      "550/550 [==============================] - 3s 5ms/step - loss: 0.2223 - accuracy: 0.9171 - val_loss: 0.3103 - val_accuracy: 0.8922\n",
      "Epoch 12/30\n",
      "550/550 [==============================] - 3s 5ms/step - loss: 0.2116 - accuracy: 0.9217 - val_loss: 0.3288 - val_accuracy: 0.8858\n",
      "Epoch 13/30\n",
      "550/550 [==============================] - 3s 5ms/step - loss: 0.2078 - accuracy: 0.9222 - val_loss: 0.3089 - val_accuracy: 0.8904\n",
      "Epoch 14/30\n",
      "550/550 [==============================] - 3s 5ms/step - loss: 0.1950 - accuracy: 0.9267 - val_loss: 0.3272 - val_accuracy: 0.8866\n",
      "Epoch 15/30\n",
      "550/550 [==============================] - 3s 5ms/step - loss: 0.1893 - accuracy: 0.9301 - val_loss: 0.3158 - val_accuracy: 0.8920\n",
      "Epoch 16/30\n",
      "550/550 [==============================] - 3s 5ms/step - loss: 0.1858 - accuracy: 0.9320 - val_loss: 0.3340 - val_accuracy: 0.8888\n",
      "Epoch 17/30\n",
      "550/550 [==============================] - 3s 5ms/step - loss: 0.1768 - accuracy: 0.9336 - val_loss: 0.3255 - val_accuracy: 0.8922\n",
      "Epoch 18/30\n",
      "550/550 [==============================] - 3s 5ms/step - loss: 0.1695 - accuracy: 0.9367 - val_loss: 0.3278 - val_accuracy: 0.8878\n",
      "Epoch 19/30\n",
      "550/550 [==============================] - 3s 5ms/step - loss: 0.1680 - accuracy: 0.9386 - val_loss: 0.3495 - val_accuracy: 0.8910\n",
      "Epoch 20/30\n",
      "550/550 [==============================] - 3s 5ms/step - loss: 0.1624 - accuracy: 0.9393 - val_loss: 0.3418 - val_accuracy: 0.8906\n",
      "Epoch 21/30\n",
      "550/550 [==============================] - 3s 5ms/step - loss: 0.1559 - accuracy: 0.9425 - val_loss: 0.3436 - val_accuracy: 0.8904\n",
      "Epoch 22/30\n",
      "550/550 [==============================] - 3s 5ms/step - loss: 0.1520 - accuracy: 0.9427 - val_loss: 0.3399 - val_accuracy: 0.8926\n",
      "Epoch 23/30\n",
      "550/550 [==============================] - 3s 5ms/step - loss: 0.1469 - accuracy: 0.9461 - val_loss: 0.3448 - val_accuracy: 0.8914\n",
      "Epoch 24/30\n",
      "550/550 [==============================] - 3s 5ms/step - loss: 0.1398 - accuracy: 0.9479 - val_loss: 0.3536 - val_accuracy: 0.8944\n",
      "Epoch 25/30\n",
      "550/550 [==============================] - 3s 5ms/step - loss: 0.1381 - accuracy: 0.9483 - val_loss: 0.3648 - val_accuracy: 0.8868\n",
      "Epoch 26/30\n",
      "550/550 [==============================] - 3s 5ms/step - loss: 0.1360 - accuracy: 0.9488 - val_loss: 0.3516 - val_accuracy: 0.8908\n",
      "Epoch 27/30\n",
      "550/550 [==============================] - 3s 5ms/step - loss: 0.1313 - accuracy: 0.9508 - val_loss: 0.4083 - val_accuracy: 0.8822\n",
      "Epoch 28/30\n",
      "550/550 [==============================] - 3s 5ms/step - loss: 0.1272 - accuracy: 0.9527 - val_loss: 0.3653 - val_accuracy: 0.8930\n",
      "Epoch 29/30\n",
      "550/550 [==============================] - 3s 5ms/step - loss: 0.1207 - accuracy: 0.9553 - val_loss: 0.3832 - val_accuracy: 0.8928\n",
      "Epoch 30/30\n",
      "550/550 [==============================] - 3s 6ms/step - loss: 0.1221 - accuracy: 0.9535 - val_loss: 0.3864 - val_accuracy: 0.8924\n"
     ]
    }
   ],
   "source": [
    "history = model.fit(x_train,y_train,epochs=30,validation_data=(x_valid,y_valid),verbose=1,batch_size=100)"
   ]
  },
  {
   "cell_type": "code",
   "execution_count": 35,
   "id": "e17993f59f890cb6",
   "metadata": {
    "ExecuteTime": {
     "end_time": "2023-09-16T10:42:00.725608300Z",
     "start_time": "2023-09-16T10:42:00.703655600Z"
    },
    "collapsed": false
   },
   "outputs": [],
   "source": []
  }
 ],
 "metadata": {
  "kernelspec": {
   "display_name": "Python 3",
   "language": "python",
   "name": "python3"
  },
  "language_info": {
   "codemirror_mode": {
    "name": "ipython",
    "version": 2
   },
   "file_extension": ".py",
   "mimetype": "text/x-python",
   "name": "python",
   "nbconvert_exporter": "python",
   "pygments_lexer": "ipython2",
   "version": "2.7.6"
  }
 },
 "nbformat": 4,
 "nbformat_minor": 5
}
