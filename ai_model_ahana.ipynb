{
  "cells": [
    {
      "cell_type": "markdown",
      "metadata": {
        "id": "r8tWEeYIK4g6"
      },
      "source": [
        "# creating-ai-influencer-Ahana"
      ]
    },
    {
      "cell_type": "markdown",
      "metadata": {
        "id": "7L5rX8nQ95-7"
      },
      "source": [
        "## testing"
      ]
    },
    {
      "cell_type": "code",
      "execution_count": null,
      "metadata": {
        "id": "aSeFRaGecOtp"
      },
      "outputs": [],
      "source": [
        "!pip install -q -U google-generativeai"
      ]
    },
    {
      "cell_type": "code",
      "execution_count": null,
      "metadata": {
        "id": "prEDin7ycOrK"
      },
      "outputs": [],
      "source": [
        "import pathlib\n",
        "import textwrap\n",
        "import google.generativeai as genai\n",
        "from IPython.display import display\n",
        "from IPython.display import Markdown\n",
        "def to_markdown(text):\n",
        "    text = text.replace('•', '  *')\n",
        "    return Markdown(textwrap.indent(text, '> ', predicate=lambda _: True))"
      ]
    },
    {
      "cell_type": "code",
      "execution_count": 11,
      "metadata": {
        "id": "3JjnGwFNcOpG"
      },
      "outputs": [],
      "source": [
        "from google.colab import userdata\n",
        "GOOGLE_API_KEY=userdata.get('GOOGLE_API_KEY')\n",
        "genai.configure(api_key=GOOGLE_API_KEY)"
      ]
    },
    {
      "cell_type": "code",
      "execution_count": 12,
      "metadata": {
        "colab": {
          "base_uri": "https://localhost:8080/",
          "height": 225
        },
        "id": "FgqlKPUtcOnB",
        "outputId": "ae769233-7431-4e95-870b-14d37190cc7c"
      },
      "outputs": [
        {
          "name": "stdout",
          "output_type": "stream",
          "text": [
            "models/gemini-1.0-pro\n",
            "models/gemini-1.0-pro-001\n",
            "models/gemini-1.0-pro-latest\n",
            "models/gemini-1.0-pro-vision-latest\n",
            "models/gemini-1.5-flash\n",
            "models/gemini-1.5-flash-001\n",
            "models/gemini-1.5-flash-latest\n",
            "models/gemini-1.5-pro\n",
            "models/gemini-1.5-pro-001\n",
            "models/gemini-1.5-pro-latest\n",
            "models/gemini-pro\n",
            "models/gemini-pro-vision\n"
          ]
        }
      ],
      "source": [
        "for m in genai.list_models():\n",
        "    if 'generateContent' in m.supported_generation_methods:\n",
        "        print(m.name)"
      ]
    },
    {
      "cell_type": "code",
      "execution_count": null,
      "metadata": {
        "id": "HoPzMGC4cOkp"
      },
      "outputs": [],
      "source": [
        "import PIL.Image\n",
        "img = PIL.Image.open(\"ph.jpg\")"
      ]
    },
    {
      "cell_type": "code",
      "execution_count": null,
      "metadata": {
        "id": "TWHFgtt-9TTI"
      },
      "outputs": [],
      "source": [
        "model = genai.GenerativeModel(\"gemini-1.0-pro-vision-latest\")"
      ]
    },
    {
      "cell_type": "code",
      "execution_count": null,
      "metadata": {
        "id": "cKZFdXy_ACUq"
      },
      "outputs": [],
      "source": [
        "safety_settings_block_none={\n",
        "    'HATE': 'BLOCK_NONE',\n",
        "    'HARASSMENT': 'BLOCK_NONE',\n",
        "    'SEXUAL' : 'BLOCK_NONE',\n",
        "    'DANGEROUS' : 'BLOCK_NONE'\n",
        "}"
      ]
    },
    {
      "cell_type": "code",
      "execution_count": null,
      "metadata": {
        "id": "bODtA1iixv7J"
      },
      "outputs": [],
      "source": [
        "# prompt = \"\"\" Describe the image in detail in about 50 words strictly, focusing on the model's pose, clothing, and the overall setting.\n",
        "# Describe the model's pose in detail, highlighting how their body language conveys confidence or allure.\n",
        "# What elements of their clothing (cut, style, color) accentuate their figure in a captivating way.\n",
        "# Describe the model's posture and facial expression.\n",
        "# Do they exude confidence and energy? How does their body language communicate their personality?\n",
        "# Describe the model's clothing in detail.  Is it a sleek, form-fitting outfit?\n",
        "# A flowing, elegant dress?  How does the clothing contribute to the overall style and mood of the image? \"\"\""
      ]
    },
    {
      "cell_type": "code",
      "execution_count": null,
      "metadata": {
        "id": "RbpaNAzDHEC4"
      },
      "outputs": [],
      "source": [
        "tp = \"\"\" Generate a detailed context from the image in strictly less than 60 words.\n",
        "Focus on the model's pose, body language, and clothing.\n",
        "Highlight how the model's posture and facial expression convey confidence and allure.\n",
        "Describe the key elements of the model's outfit,\n",
        "emphasizing how it enhances their figure and contributes to the overall stylish and modern atmosphere of the image. \"\"\""
      ]
    },
    {
      "cell_type": "code",
      "execution_count": null,
      "metadata": {
        "colab": {
          "base_uri": "https://localhost:8080/",
          "height": 132
        },
        "id": "-CgtUqq58i3J",
        "outputId": "1fbac082-c4e9-44fb-920f-050ac5fc8a04"
      },
      "outputs": [
        {
          "data": {
            "text/markdown": [
              ">  The model is dressed in a black bodysuit with a plunging neckline and a white waistband, which accentuates her curves and creates a striking visual contrast. The outfit is simple yet chic, allowing the model's natural beauty to shine through. Her hair is styled in a sleek bun, and her makeup is flawless, with a smoky eye and a glossy nude lip. The model's pose is confident and alluring, with one hand on her hip and the other gently caressing her hair. Her body language exudes confidence and sensuality, and her facial expression is one of calm assurance. The overall effect is one of sophistication and elegance, with the model's outfit, pose, and facial expression all working together to create a truly stunning image."
            ],
            "text/plain": [
              "<IPython.core.display.Markdown object>"
            ]
          },
          "execution_count": 22,
          "metadata": {},
          "output_type": "execute_result"
        }
      ],
      "source": [
        "response = model.generate_content([tp, img],safety_settings=safety_settings_block_none)\n",
        "to_markdown(response.text)"
      ]
    },
    {
      "cell_type": "code",
      "execution_count": null,
      "metadata": {
        "id": "Vpxdu0EBBXqi"
      },
      "outputs": [],
      "source": [
        "prompt_sdxl = response.text"
      ]
    },
    {
      "cell_type": "code",
      "execution_count": null,
      "metadata": {
        "id": "HhpTlPZTr6Sn"
      },
      "outputs": [],
      "source": []
    },
    {
      "cell_type": "code",
      "execution_count": null,
      "metadata": {
        "id": "oJQtEyqn9NqS"
      },
      "outputs": [],
      "source": [
        "# prompt_sdxl = \"\"\"The model is standing with her left hand raised, her right hand on her hip, and her head tilted slightly to the right.\n",
        "# She is wearing a black bikini top and a long, black see-through skirt with a slit.\n",
        "# The outfit accentuates her curves and creates a captivating silhouette.\n",
        "# Her hair is long, dark, and flowing, and her makeup is flawless.\n",
        "# She is looking at the camera with a confident and alluring expression.\n",
        "# The overall setting is a warm and sunny day, with the light filtering through a sheer curtain behind her.\n",
        "# The model's pose and facial expression exude confidence and energy, and her body language communicates her personality.\n",
        "# She is a powerful and confident woman who knows what she wants and is not afraid to go after it.\"\"\""
      ]
    },
    {
      "cell_type": "code",
      "execution_count": null,
      "metadata": {
        "id": "yxFZ_mTU9Nmf"
      },
      "outputs": [],
      "source": [
        "neg_prompt = \"\"\" Avoid nudity, explicit sexual content, extreme poses, vulgar expressions,\n",
        "inappropriate gestures, overly suggestive clothing, and any form of explicit adult content. \"\"\""
      ]
    },
    {
      "cell_type": "code",
      "execution_count": null,
      "metadata": {
        "id": "koqMBAGArRrx"
      },
      "outputs": [],
      "source": [
        "image = open(\"ph.jpg\", \"rb\")"
      ]
    },
    {
      "cell_type": "code",
      "execution_count": null,
      "metadata": {
        "id": "41f8qlAPPWmU"
      },
      "outputs": [],
      "source": []
    },
    {
      "cell_type": "code",
      "execution_count": null,
      "metadata": {
        "id": "DPIzot0bPWdq"
      },
      "outputs": [],
      "source": []
    },
    {
      "cell_type": "markdown",
      "metadata": {
        "id": "TVK5wowaPXRX"
      },
      "source": [
        "## finetuning-sdxl"
      ]
    },
    {
      "cell_type": "markdown",
      "metadata": {
        "id": "l-MMQJaH9dIj"
      },
      "source": [
        "### preparing-data"
      ]
    },
    {
      "cell_type": "code",
      "execution_count": null,
      "metadata": {
        "id": "NfGsQE1LPX3N"
      },
      "outputs": [],
      "source": [
        "!pip install -q -U google-generativeai"
      ]
    },
    {
      "cell_type": "code",
      "execution_count": null,
      "metadata": {
        "id": "1-ap_64lQAuV"
      },
      "outputs": [],
      "source": [
        "import PIL\n",
        "import pandas as pd\n",
        "import os\n",
        "import google.generativeai as genai"
      ]
    },
    {
      "cell_type": "code",
      "execution_count": null,
      "metadata": {
        "id": "fOEDio67PYN6"
      },
      "outputs": [],
      "source": [
        "from google.colab import userdata\n",
        "GOOGLE_API_KEY=userdata.get('GOOGLE_API_KEY')\n",
        "genai.configure(api_key=GOOGLE_API_KEY)"
      ]
    },
    {
      "cell_type": "code",
      "execution_count": null,
      "metadata": {
        "id": "xx24bkkSW0YF"
      },
      "outputs": [],
      "source": [
        "model = genai.GenerativeModel(\"gemini-1.0-pro-vision-latest\")\n",
        "safety_settings_block_none={\n",
        "    'HATE': 'BLOCK_NONE',\n",
        "    'HARASSMENT': 'BLOCK_NONE',\n",
        "    'SEXUAL' : 'BLOCK_NONE',\n",
        "    'DANGEROUS' : 'BLOCK_NONE'\n",
        "}"
      ]
    },
    {
      "cell_type": "code",
      "execution_count": null,
      "metadata": {
        "id": "MFPljdjjW6P2"
      },
      "outputs": [],
      "source": [
        "context_prompt = \"\"\" Generate a detailed context from the image in strictly less than 60 words.\n",
        "Focus on the model's pose, body language, and clothing.\n",
        "Highlight how the model's posture and facial expression convey confidence and allure.\n",
        "Describe the key elements of the model's outfit,\n",
        "emphasizing how it enhances their figure and contributes to the overall stylish and modern atmosphere of the image. \"\"\""
      ]
    },
    {
      "cell_type": "code",
      "execution_count": null,
      "metadata": {
        "id": "JBkykLP41PH2"
      },
      "outputs": [],
      "source": [
        "from google.colab import drive\n",
        "drive.mount('/content/drive')"
      ]
    },
    {
      "cell_type": "code",
      "execution_count": null,
      "metadata": {
        "id": "RnKkbcfmXFh6"
      },
      "outputs": [],
      "source": [
        "directory = \"photos\"\n",
        "all_photos = os.listdir(directory)\n",
        "photos_paths = [f\"{directory}/{path}\" for path in all_photos]"
      ]
    },
    {
      "cell_type": "code",
      "execution_count": null,
      "metadata": {
        "id": "1eCNG_4PWbI5"
      },
      "outputs": [],
      "source": [
        "def get_caption(path, name):\n",
        "    try:\n",
        "        photo = PIL.Image.open(path)\n",
        "        response = model.generate_content([context_prompt, photo],safety_settings=safety_settings_block_none)\n",
        "        photo.save(f\"train/{name}.jpg\")\n",
        "        return_context = f\"a photo of ahana {response.text}\"\n",
        "        return return_context\n",
        "    except:\n",
        "        print(f\"Error in getting caption of {path} \")"
      ]
    },
    {
      "cell_type": "code",
      "execution_count": null,
      "metadata": {
        "id": "FDrPSpKBQQi9"
      },
      "outputs": [],
      "source": [
        "df = pd.DataFrame(columns = [\"caption\", \"image_file\"])"
      ]
    },
    {
      "cell_type": "code",
      "execution_count": null,
      "metadata": {
        "id": "iGWTb6qIWTKG"
      },
      "outputs": [],
      "source": [
        "var = 100\n",
        "for path in photos_paths:\n",
        "    new_row_data = {\n",
        "        \"caption\":get_caption(path, var),\n",
        "        \"image_file\":f\"{var}.jpg\",\n",
        "    }\n",
        "\n",
        "    df.loc[len(df)] = new_row_data\n",
        "    var += 1"
      ]
    },
    {
      "cell_type": "code",
      "execution_count": null,
      "metadata": {
        "id": "VimL43U4WTEm"
      },
      "outputs": [],
      "source": [
        "df.head()"
      ]
    },
    {
      "cell_type": "code",
      "execution_count": null,
      "metadata": {
        "id": "djA7D0W9PX_c"
      },
      "outputs": [],
      "source": [
        "df.to_csv('train/caption.csv', index=False)"
      ]
    },
    {
      "cell_type": "code",
      "execution_count": null,
      "metadata": {
        "id": "e9IgPL3ew_yp"
      },
      "outputs": [],
      "source": [
        "import shutil\n",
        "from google.colab import files\n",
        "\n",
        "folder_to_download = \"train\"\n",
        "output_filename = \"train.zip\"\n",
        "shutil.make_archive(\"train\", \"zip\", folder_to_download)\n",
        "files.download(output_filename)"
      ]
    },
    {
      "cell_type": "code",
      "execution_count": null,
      "metadata": {
        "id": "cWCnh6Gzw_vo"
      },
      "outputs": [],
      "source": []
    },
    {
      "cell_type": "code",
      "execution_count": null,
      "metadata": {
        "id": "G3tksVmMPxTt"
      },
      "outputs": [],
      "source": []
    },
    {
      "cell_type": "markdown",
      "metadata": {
        "id": "6Dg5X0_49jDt"
      },
      "source": [
        "### training"
      ]
    },
    {
      "cell_type": "code",
      "execution_count": null,
      "metadata": {
        "colab": {
          "base_uri": "https://localhost:8080/"
        },
        "id": "xkzFL9tlPxPg",
        "outputId": "6836685f-6985-4752-ad9c-099820fc8565"
      },
      "outputs": [
        {
          "name": "stdout",
          "output_type": "stream",
          "text": [
            "Requirement already satisfied: replicate in /usr/local/lib/python3.10/dist-packages (0.26.0)\n",
            "Requirement already satisfied: httpx<1,>=0.21.0 in /usr/local/lib/python3.10/dist-packages (from replicate) (0.27.0)\n",
            "Requirement already satisfied: packaging in /usr/local/lib/python3.10/dist-packages (from replicate) (24.0)\n",
            "Requirement already satisfied: pydantic>1.10.7 in /usr/local/lib/python3.10/dist-packages (from replicate) (2.7.1)\n",
            "Requirement already satisfied: typing-extensions>=4.5.0 in /usr/local/lib/python3.10/dist-packages (from replicate) (4.11.0)\n",
            "Requirement already satisfied: anyio in /usr/local/lib/python3.10/dist-packages (from httpx<1,>=0.21.0->replicate) (3.7.1)\n",
            "Requirement already satisfied: certifi in /usr/local/lib/python3.10/dist-packages (from httpx<1,>=0.21.0->replicate) (2024.2.2)\n",
            "Requirement already satisfied: httpcore==1.* in /usr/local/lib/python3.10/dist-packages (from httpx<1,>=0.21.0->replicate) (1.0.5)\n",
            "Requirement already satisfied: idna in /usr/local/lib/python3.10/dist-packages (from httpx<1,>=0.21.0->replicate) (3.7)\n",
            "Requirement already satisfied: sniffio in /usr/local/lib/python3.10/dist-packages (from httpx<1,>=0.21.0->replicate) (1.3.1)\n",
            "Requirement already satisfied: h11<0.15,>=0.13 in /usr/local/lib/python3.10/dist-packages (from httpcore==1.*->httpx<1,>=0.21.0->replicate) (0.14.0)\n",
            "Requirement already satisfied: annotated-types>=0.4.0 in /usr/local/lib/python3.10/dist-packages (from pydantic>1.10.7->replicate) (0.7.0)\n",
            "Requirement already satisfied: pydantic-core==2.18.2 in /usr/local/lib/python3.10/dist-packages (from pydantic>1.10.7->replicate) (2.18.2)\n",
            "Requirement already satisfied: exceptiongroup in /usr/local/lib/python3.10/dist-packages (from anyio->httpx<1,>=0.21.0->replicate) (1.2.1)\n"
          ]
        }
      ],
      "source": [
        "!pip install replicate"
      ]
    },
    {
      "cell_type": "code",
      "execution_count": null,
      "metadata": {
        "id": "WFqYiG1oIrHy"
      },
      "outputs": [],
      "source": [
        "import replicate\n",
        "from google.colab import userdata\n",
        "replicate_client = replicate.Client(api_token = userdata.get(\"REPLICATE_API_TOKEN\"))"
      ]
    },
    {
      "cell_type": "code",
      "execution_count": null,
      "metadata": {
        "id": "PmkaLkLQ9mc_"
      },
      "outputs": [],
      "source": [
        "training = replicate_client.trainings.create(\n",
        "    version=\"stability-ai/sdxl:39ed52f2a78e934b3ba6e2a89f5b1c712de7dfea535525255b1aa35c5565e08b\",\n",
        "    input={\n",
        "        \"input_images\": \"https://ai-model-ahana.s3.ap-south-1.amazonaws.com/final.zip\",\n",
        "        \"resolution\": 768,\n",
        "        \"train_batch_size\": 10,\n",
        "        \"num_train_epochs\": 500,\n",
        "        \"max_train_steps\": 2500,\n",
        "        \"is_lora\": True,\n",
        "        \"unet_learning_rate\": 1e-5,\n",
        "        \"ti_lr\": 3e-4,\n",
        "        \"lora_lr\": 2e-4,\n",
        "        \"lr_scheduler\": \"linear\",\n",
        "        \"lr_warmup_steps\": 100,\n",
        "        \"token_string\": \"ahana\",\n",
        "        \"caption_prefix\": \"a photo of ahana\",\n",
        "        \"mask_target_prompts\": None,\n",
        "        \"crop_based_on_salience\": True,\n",
        "        \"use_face_detection_instead\": False,\n",
        "        \"clipseg_temperature\": 0.9,\n",
        "        \"verbose\": True,\n",
        "        \"checkpointing_steps\": 200,\n",
        "\n",
        "    },\n",
        "    destination=\"code8soumya/ai-model-ahana\"\n",
        ")"
      ]
    },
    {
      "cell_type": "code",
      "execution_count": null,
      "metadata": {
        "colab": {
          "base_uri": "https://localhost:8080/"
        },
        "id": "435vbHaP9may",
        "outputId": "65a5afb7-17a0-4ccf-b671-4e8a1dbd9c96"
      },
      "outputs": [
        {
          "name": "stdout",
          "output_type": "stream",
          "text": [
            "processing\n",
            "# PTI :step: 185, epoch: 37:   7%|▋         | 186/2500 [02:32<31:27,  1.23it/s]\n",
            "# PTI :step: 185, epoch: 37:   7%|▋         | 187/2500 [02:33<31:21,  1.23it/s]\n",
            "# PTI :step: 186, epoch: 37:   7%|▋         | 187/2500 [02:33<31:21,  1.23it/s]\n",
            "# PTI :step: 186, epoch: 37:   8%|▊         | 188/2500 [02:34<31:20,  1.23it/s]\n",
            "# PTI :step: 187, epoch: 37:   8%|▊         | 188/2500 [02:34<31:20,  1.23it/s]\n",
            "# PTI :step: 187, epoch: 37:   8%|▊         | 189/2500 [02:35<31:17,  1.23it/s]\n",
            "# PTI :step: 188, epoch: 37:   8%|▊         | 189/2500 [02:35<31:17,  1.23it/s]\n",
            "# PTI :step: 188, epoch: 37:   8%|▊         | 190/2500 [02:36<31:15,  1.23it/s]\n",
            "# PTI :step: 189, epoch: 37:   8%|▊         | 190/2500 [02:36<31:15,  1.23it/s]\n",
            "\n"
          ]
        }
      ],
      "source": [
        "training.reload()\n",
        "print(training.status)\n",
        "print(\"\\n\".join(training.logs.split(\"\\n\")[-10:]))"
      ]
    },
    {
      "cell_type": "code",
      "execution_count": null,
      "metadata": {
        "id": "q5wss5bI9mYY"
      },
      "outputs": [],
      "source": []
    },
    {
      "cell_type": "code",
      "execution_count": null,
      "metadata": {
        "id": "1PtHRu0Z9mV2"
      },
      "outputs": [],
      "source": []
    },
    {
      "cell_type": "code",
      "execution_count": null,
      "metadata": {
        "id": "Wfhf6bSV9mTe"
      },
      "outputs": [],
      "source": []
    },
    {
      "cell_type": "code",
      "execution_count": null,
      "metadata": {
        "id": "Jx3gnvBV9mQs"
      },
      "outputs": [],
      "source": []
    },
    {
      "cell_type": "markdown",
      "metadata": {
        "id": "YQXZ-FEAzxC6"
      },
      "source": [
        "# sdxl"
      ]
    },
    {
      "cell_type": "code",
      "execution_count": 35,
      "metadata": {
        "colab": {
          "base_uri": "https://localhost:8080/"
        },
        "id": "aYchJFAh-W8x",
        "outputId": "c28613d8-31f2-4547-f194-4ed05d864729"
      },
      "outputs": [
        {
          "name": "stdout",
          "output_type": "stream",
          "text": [
            "Requirement already satisfied: replicate in /usr/local/lib/python3.10/dist-packages (0.26.0)\n",
            "Requirement already satisfied: httpx<1,>=0.21.0 in /usr/local/lib/python3.10/dist-packages (from replicate) (0.27.0)\n",
            "Requirement already satisfied: packaging in /usr/local/lib/python3.10/dist-packages (from replicate) (24.0)\n",
            "Requirement already satisfied: pydantic>1.10.7 in /usr/local/lib/python3.10/dist-packages (from replicate) (2.7.2)\n",
            "Requirement already satisfied: typing-extensions>=4.5.0 in /usr/local/lib/python3.10/dist-packages (from replicate) (4.12.0)\n",
            "Requirement already satisfied: anyio in /usr/local/lib/python3.10/dist-packages (from httpx<1,>=0.21.0->replicate) (3.7.1)\n",
            "Requirement already satisfied: certifi in /usr/local/lib/python3.10/dist-packages (from httpx<1,>=0.21.0->replicate) (2024.2.2)\n",
            "Requirement already satisfied: httpcore==1.* in /usr/local/lib/python3.10/dist-packages (from httpx<1,>=0.21.0->replicate) (1.0.5)\n",
            "Requirement already satisfied: idna in /usr/local/lib/python3.10/dist-packages (from httpx<1,>=0.21.0->replicate) (3.7)\n",
            "Requirement already satisfied: sniffio in /usr/local/lib/python3.10/dist-packages (from httpx<1,>=0.21.0->replicate) (1.3.1)\n",
            "Requirement already satisfied: h11<0.15,>=0.13 in /usr/local/lib/python3.10/dist-packages (from httpcore==1.*->httpx<1,>=0.21.0->replicate) (0.14.0)\n",
            "Requirement already satisfied: annotated-types>=0.4.0 in /usr/local/lib/python3.10/dist-packages (from pydantic>1.10.7->replicate) (0.7.0)\n",
            "Requirement already satisfied: pydantic-core==2.18.3 in /usr/local/lib/python3.10/dist-packages (from pydantic>1.10.7->replicate) (2.18.3)\n",
            "Requirement already satisfied: exceptiongroup in /usr/local/lib/python3.10/dist-packages (from anyio->httpx<1,>=0.21.0->replicate) (1.2.1)\n"
          ]
        }
      ],
      "source": [
        "!pip install -q -U google-generativeai\n",
        "!pip install replicate\n",
        "import replicate\n",
        "import pathlib\n",
        "import textwrap\n",
        "import google.generativeai as genai\n",
        "import PIL.Image\n",
        "from google.colab import userdata\n",
        "from IPython.display import display\n",
        "from IPython.display import Markdown\n",
        "def to_markdown(text):\n",
        "    text = text.replace('•', '  *')\n",
        "    return Markdown(textwrap.indent(text, '> ', predicate=lambda _: True))\n",
        "from google.colab import userdata\n",
        "GOOGLE_API_KEY=userdata.get('GOOGLE_API_KEY')\n",
        "genai.configure(api_key=GOOGLE_API_KEY)"
      ]
    },
    {
      "cell_type": "code",
      "execution_count": 64,
      "metadata": {
        "id": "cwDs4uoZ-lGC"
      },
      "outputs": [],
      "source": [
        "model = genai.GenerativeModel(\"gemini-1.0-pro-vision-latest\")"
      ]
    },
    {
      "cell_type": "code",
      "execution_count": 65,
      "metadata": {
        "id": "wAR-kv_x_BtZ"
      },
      "outputs": [],
      "source": [
        "replicate_client = replicate.Client(api_token = userdata.get(\"REPLICATE_API_TOKEN\"))"
      ]
    },
    {
      "cell_type": "code",
      "execution_count": 138,
      "metadata": {
        "id": "JAMJghCP3T41"
      },
      "outputs": [],
      "source": [
        "tp = \"a broad description about the model's body, face, cloths, background , colours \""
      ]
    },
    {
      "cell_type": "code",
      "execution_count": 139,
      "metadata": {
        "id": "sfP0lbgICZ-Q"
      },
      "outputs": [],
      "source": [
        "safety_settings_block_none={\n",
        "    'HATE': 'BLOCK_NONE',\n",
        "    'HARASSMENT': 'BLOCK_NONE',\n",
        "    'SEXUAL' : 'BLOCK_NONE',\n",
        "    'DANGEROUS' : 'BLOCK_NONE'\n",
        "}"
      ]
    },
    {
      "cell_type": "code",
      "execution_count": 140,
      "metadata": {
        "id": "bxyppFHi-dk3"
      },
      "outputs": [],
      "source": [
        "img = PIL.Image.open(\"ph.jpg\")"
      ]
    },
    {
      "cell_type": "code",
      "execution_count": 141,
      "metadata": {
        "id": "TYiNVxJICSLe"
      },
      "outputs": [],
      "source": [
        "# img"
      ]
    },
    {
      "cell_type": "code",
      "execution_count": 142,
      "metadata": {
        "colab": {
          "base_uri": "https://localhost:8080/",
          "height": 114
        },
        "id": "F4YFbs5mBzyP",
        "outputId": "566dc8df-2af1-4442-fde0-237cb8409608"
      },
      "outputs": [
        {
          "data": {
            "text/markdown": [
              ">  The model is a young woman with long, wavy brown hair. She is wearing a pink and white shalwar kameez. The kameez is long and loose-fitting, with a V-neck and short sleeves. The shalwar are fitted and slightly flared at the bottom. The model is sitting on a stone wall in front of a stone building. The background is a blur of green and brown. The model is smiling and has her eyes closed. She is wearing a few pieces of jewelry, including a necklace, a bracelet, and earrings."
            ],
            "text/plain": [
              "<IPython.core.display.Markdown object>"
            ]
          },
          "execution_count": 142,
          "metadata": {},
          "output_type": "execute_result"
        }
      ],
      "source": [
        "response = model.generate_content([tp, img],safety_settings=safety_settings_block_none)\n",
        "to_markdown(response.text)"
      ]
    },
    {
      "cell_type": "code",
      "execution_count": 143,
      "metadata": {
        "id": "qM-YKWTH_Mni"
      },
      "outputs": [],
      "source": [
        "prompt_sdxl = \"a photo of ahana an Indian middle class girl generate a realistic photo with beautiful eyes and\" + response.text"
      ]
    },
    {
      "cell_type": "code",
      "execution_count": 144,
      "metadata": {
        "colab": {
          "base_uri": "https://localhost:8080/",
          "height": 87
        },
        "id": "8ZUFZOiJCtH1",
        "outputId": "f54189db-8424-4496-a881-7f37af6e93ad"
      },
      "outputs": [
        {
          "data": {
            "application/vnd.google.colaboratory.intrinsic+json": {
              "type": "string"
            },
            "text/plain": [
              "'a photo of ahana an Indian middle class girl generate a realistic photo with beautiful eyes and The model is a young woman with long, wavy brown hair. She is wearing a pink and white shalwar kameez. The kameez is long and loose-fitting, with a V-neck and short sleeves. The shalwar are fitted and slightly flared at the bottom. The model is sitting on a stone wall in front of a stone building. The background is a blur of green and brown. The model is smiling and has her eyes closed. She is wearing a few pieces of jewelry, including a necklace, a bracelet, and earrings.'"
            ]
          },
          "execution_count": 144,
          "metadata": {},
          "output_type": "execute_result"
        }
      ],
      "source": [
        "prompt_sdxl"
      ]
    },
    {
      "cell_type": "code",
      "execution_count": 151,
      "metadata": {
        "id": "HlNiVKdudOcE"
      },
      "outputs": [],
      "source": [
        "neg_prompt = \"\"\" unrealistic anatomy, blurry, high quality, clear face, unrealistic eyes, good lighting, unrealistic hair,\n",
        "deformed, disfigured, extra limbs, missing limbs, fused limbs, bad anatomy, bad proportions,\n",
        "poorly drawn hands, extra fingers, long neck, morbid, mutilated, unrealistic \"\"\""
      ]
    },
    {
      "cell_type": "code",
      "execution_count": 152,
      "metadata": {
        "id": "W2-nxbXNGsq2"
      },
      "outputs": [],
      "source": [
        "# image = open(\"ph.jpg\", \"rb\")"
      ]
    },
    {
      "cell_type": "code",
      "execution_count": 153,
      "metadata": {
        "colab": {
          "base_uri": "https://localhost:8080/"
        },
        "id": "SkLkGrn5zwV9",
        "outputId": "20ceff2c-52c8-487f-d2b2-04f7a0207984"
      },
      "outputs": [
        {
          "name": "stdout",
          "output_type": "stream",
          "text": [
            "['https://replicate.delivery/pbxt/5f6lZu5ytww7bK0ywbeWCO2DFr6HaoEXQzYlnwifs3jv6Y2lA/out-0.png']\n",
            "CPU times: user 337 ms, sys: 28.5 ms, total: 365 ms\n",
            "Wall time: 35.1 s\n"
          ]
        }
      ],
      "source": [
        "%%time\n",
        "\n",
        "input = {\n",
        "    \"width\": 768,\n",
        "    \"height\": 768,\n",
        "    \"prompt\": prompt_sdxl,\n",
        "    # \"image\": image,\n",
        "    \"refine\": \"expert_ensemble_refiner\",\n",
        "    \"scheduler\":\"K_EULER_ANCESTRAL\",\n",
        "    \"apply_watermark\": False,\n",
        "    \"num_inference_steps\": 200,\n",
        "    \"lora_scale\":0.7,\n",
        "    \"num_outputs\":1,\n",
        "    \"refine_steps\":150,\n",
        "    \"guidance_scale\":7.5,\n",
        "    \"high_noise_frac\":0.8,\n",
        "    \"negative_prompt\":neg_prompt,\n",
        "    \"prompt_strength\":0.85,\n",
        "    \"disable_safety_checker\":True,\n",
        "}\n",
        "\n",
        "output = replicate_client.run(\n",
        "    \"code8soumya/ai-model-ahana:5ef3bdff062556b09072edabe946bc497a6621436df5cf1858247d3b3d900ee8\",\n",
        "    input=input\n",
        ")\n",
        "print(output)"
      ]
    },
    {
      "cell_type": "code",
      "execution_count": null,
      "metadata": {
        "id": "5ryZWDmzz2Iz"
      },
      "outputs": [],
      "source": []
    },
    {
      "cell_type": "code",
      "execution_count": null,
      "metadata": {
        "id": "CLG1fQEFS459"
      },
      "outputs": [],
      "source": []
    },
    {
      "cell_type": "code",
      "execution_count": null,
      "metadata": {
        "id": "Z8c3UxOzz2Ew"
      },
      "outputs": [],
      "source": [
        "# neg_prompt = \"\"\" Avoid nudity, explicit sexual content, extreme poses, vulgar expressions,\n",
        "# inappropriate gestures, overly suggestive clothing, and any form of explicit adult content. \"\"\""
      ]
    },
    {
      "cell_type": "code",
      "execution_count": null,
      "metadata": {
        "id": "E3VphsOKECBI"
      },
      "outputs": [],
      "source": [
        "# tp1 = \"\"\" Generate a detailed context from the image in strictly less than 60 words.\n",
        "# Focus on the model's pose, body language, and clothing.\n",
        "# Highlight how the model's posture and facial expression convey confidence and allure.\n",
        "# Describe the key elements of the model's outfit,\n",
        "# emphasizing how it enhances their figure and contributes to the overall stylish and modern atmosphere of the image. \"\"\""
      ]
    },
    {
      "cell_type": "code",
      "execution_count": null,
      "metadata": {
        "id": "Sb_u9tDiEB-w"
      },
      "outputs": [],
      "source": []
    },
    {
      "cell_type": "code",
      "execution_count": null,
      "metadata": {
        "id": "ZlpgvmkmzwTg"
      },
      "outputs": [],
      "source": []
    }
  ],
  "metadata": {
    "colab": {
      "collapsed_sections": [
        "r8tWEeYIK4g6",
        "7L5rX8nQ95-7",
        "TVK5wowaPXRX",
        "l-MMQJaH9dIj",
        "6Dg5X0_49jDt"
      ],
      "provenance": []
    },
    "kernelspec": {
      "display_name": "Python 3",
      "name": "python3"
    },
    "language_info": {
      "name": "python"
    }
  },
  "nbformat": 4,
  "nbformat_minor": 0
}
